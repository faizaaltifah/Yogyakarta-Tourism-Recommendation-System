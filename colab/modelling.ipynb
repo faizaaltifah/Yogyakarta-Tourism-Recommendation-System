{
 "cells": [
  {
   "cell_type": "code",
   "execution_count": 12,
   "metadata": {},
   "outputs": [],
   "source": [
    "import pandas as pd\n",
    "import tensorflow as tf\n",
    "import numpy as np\n",
    "import nltk\n",
    "import json"
   ]
  },
  {
   "cell_type": "code",
   "execution_count": 13,
   "metadata": {},
   "outputs": [],
   "source": [
    "from tensorflow.keras.preprocessing.text import Tokenizer\n",
    "from tensorflow.keras.preprocessing.sequence import pad_sequences\n",
    "from tensorflow.keras.models import Sequential\n",
    "from tensorflow.keras.layers import Embedding, LSTM, Bidirectional, Dense\n",
    "from tensorflow.keras.layers import TextVectorization\n",
    "from tensorflow.keras.optimizers import Adam\n",
    "from tensorflow.keras.models import load_model\n",
    "from tensorflow.keras.preprocessing.text import tokenizer_from_json\n",
    "from sklearn.model_selection import train_test_split"
   ]
  },
  {
   "cell_type": "code",
   "execution_count": 14,
   "metadata": {},
   "outputs": [],
   "source": [
    "df = pd.read_csv(\"data_kaggle(1).csv\")"
   ]
  },
  {
   "cell_type": "code",
   "execution_count": 15,
   "metadata": {},
   "outputs": [
    {
     "data": {
      "text/html": [
       "<div>\n",
       "<style scoped>\n",
       "    .dataframe tbody tr th:only-of-type {\n",
       "        vertical-align: middle;\n",
       "    }\n",
       "\n",
       "    .dataframe tbody tr th {\n",
       "        vertical-align: top;\n",
       "    }\n",
       "\n",
       "    .dataframe thead th {\n",
       "        text-align: right;\n",
       "    }\n",
       "</style>\n",
       "<table border=\"1\" class=\"dataframe\">\n",
       "  <thead>\n",
       "    <tr style=\"text-align: right;\">\n",
       "      <th></th>\n",
       "      <th>no</th>\n",
       "      <th>nama</th>\n",
       "      <th>vote_average</th>\n",
       "      <th>vote_count</th>\n",
       "      <th>type</th>\n",
       "      <th>htm_weekday</th>\n",
       "      <th>htm_weekend</th>\n",
       "      <th>latitude</th>\n",
       "      <th>longitude</th>\n",
       "      <th>description</th>\n",
       "      <th>aff_link</th>\n",
       "      <th>trans_desc</th>\n",
       "      <th>types</th>\n",
       "      <th>combined</th>\n",
       "      <th>file_id</th>\n",
       "      <th>image_link</th>\n",
       "    </tr>\n",
       "  </thead>\n",
       "  <tbody>\n",
       "    <tr>\n",
       "      <th>0</th>\n",
       "      <td>9</td>\n",
       "      <td>Candi Borobudur</td>\n",
       "      <td>4.7</td>\n",
       "      <td>81922</td>\n",
       "      <td>Budaya dan Sejarah</td>\n",
       "      <td>50000.0</td>\n",
       "      <td>50000.0</td>\n",
       "      <td>-7.607087</td>\n",
       "      <td>110.203623</td>\n",
       "      <td>Candi yang pernah masuk sebagai salah satu dar...</td>\n",
       "      <td>https://www.tiket.com/to-do/search?title=Candi...</td>\n",
       "      <td>The temple, which had entered as one of the se...</td>\n",
       "      <td>Culture and history</td>\n",
       "      <td>Culture and history The temple, which had ente...</td>\n",
       "      <td>17RA7iM5WIU1ewID8mTw47wSwzFHWxIVq</td>\n",
       "      <td>https://drive.google.com/uc?id=17RA7iM5WIU1ewI...</td>\n",
       "    </tr>\n",
       "    <tr>\n",
       "      <th>1</th>\n",
       "      <td>10</td>\n",
       "      <td>Candi Prambanan</td>\n",
       "      <td>4.7</td>\n",
       "      <td>71751</td>\n",
       "      <td>Budaya dan Sejarah</td>\n",
       "      <td>50000.0</td>\n",
       "      <td>50000.0</td>\n",
       "      <td>-7.751835</td>\n",
       "      <td>110.491532</td>\n",
       "      <td>Candi Prambanan adalah kompleks candi Hindu te...</td>\n",
       "      <td>https://www.tiket.com/to-do/search?title=Candi...</td>\n",
       "      <td>Prambanan Temple is the largest Hindu temple c...</td>\n",
       "      <td>Culture and history</td>\n",
       "      <td>Culture and history Prambanan Temple is the la...</td>\n",
       "      <td>1ug2o4IWvGLvxeG3HAVm5glMRvhhLgpQQ</td>\n",
       "      <td>https://drive.google.com/uc?id=1ug2o4IWvGLvxeG...</td>\n",
       "    </tr>\n",
       "    <tr>\n",
       "      <th>2</th>\n",
       "      <td>24</td>\n",
       "      <td>Tebing Breksi</td>\n",
       "      <td>4.4</td>\n",
       "      <td>51431</td>\n",
       "      <td>Alam</td>\n",
       "      <td>10000.0</td>\n",
       "      <td>10000.0</td>\n",
       "      <td>-7.781477</td>\n",
       "      <td>110.504576</td>\n",
       "      <td>Tebing Breksi merupakan tempat wisata yang ber...</td>\n",
       "      <td>https://www.tiket.com/to-do/search?title=Tebin...</td>\n",
       "      <td>Tebing Breksi is a tourist spot in the Sleman ...</td>\n",
       "      <td>Natural</td>\n",
       "      <td>Natural Tebing Breksi is a tourist spot in the...</td>\n",
       "      <td>1TAZvvlwY3JMuPcsQ3i9PrSxXXMKh7sVJ</td>\n",
       "      <td>https://drive.google.com/uc?id=1TAZvvlwY3JMuPc...</td>\n",
       "    </tr>\n",
       "    <tr>\n",
       "      <th>3</th>\n",
       "      <td>343</td>\n",
       "      <td>Gembira Loka Zoo</td>\n",
       "      <td>4.5</td>\n",
       "      <td>36337</td>\n",
       "      <td>Fauna</td>\n",
       "      <td>20000.0</td>\n",
       "      <td>25000.0</td>\n",
       "      <td>-7.806234</td>\n",
       "      <td>110.396798</td>\n",
       "      <td>Gambira Loka adalah kebun binatang yang berada...</td>\n",
       "      <td>https://www.tiket.com/to-do/search?title=Gembi...</td>\n",
       "      <td>Gambira Loka is a zoo in Yogyakarta.Contains a...</td>\n",
       "      <td>Fauna</td>\n",
       "      <td>Fauna Gambira Loka is a zoo in Yogyakarta.Cont...</td>\n",
       "      <td>1vITPWWt8GwxYguFDm3JED6DsZRDm_HsP</td>\n",
       "      <td>https://drive.google.com/uc?id=1vITPWWt8GwxYgu...</td>\n",
       "    </tr>\n",
       "    <tr>\n",
       "      <th>4</th>\n",
       "      <td>346</td>\n",
       "      <td>The Palace of Yogyakarta (Keraton Yogyakarta)</td>\n",
       "      <td>4.6</td>\n",
       "      <td>30091</td>\n",
       "      <td>Budaya dan Sejarah</td>\n",
       "      <td>8000.0</td>\n",
       "      <td>8000.0</td>\n",
       "      <td>-7.805284</td>\n",
       "      <td>110.364203</td>\n",
       "      <td>Kompleks keraton merupakan museum yang menyimp...</td>\n",
       "      <td>https://www.tiket.com/to-do/search?title=The%2...</td>\n",
       "      <td>The palace complex is a museum that stores var...</td>\n",
       "      <td>Culture and history</td>\n",
       "      <td>Culture and history The palace complex is a mu...</td>\n",
       "      <td>1TEv0oeZu1YWhjCIoyUZSuJn4rUeofrc0</td>\n",
       "      <td>https://drive.google.com/uc?id=1TEv0oeZu1YWhjC...</td>\n",
       "    </tr>\n",
       "    <tr>\n",
       "      <th>...</th>\n",
       "      <td>...</td>\n",
       "      <td>...</td>\n",
       "      <td>...</td>\n",
       "      <td>...</td>\n",
       "      <td>...</td>\n",
       "      <td>...</td>\n",
       "      <td>...</td>\n",
       "      <td>...</td>\n",
       "      <td>...</td>\n",
       "      <td>...</td>\n",
       "      <td>...</td>\n",
       "      <td>...</td>\n",
       "      <td>...</td>\n",
       "      <td>...</td>\n",
       "      <td>...</td>\n",
       "      <td>...</td>\n",
       "    </tr>\n",
       "    <tr>\n",
       "      <th>121</th>\n",
       "      <td>7</td>\n",
       "      <td>Bukit Pengilon</td>\n",
       "      <td>4.6</td>\n",
       "      <td>439</td>\n",
       "      <td>Alam</td>\n",
       "      <td>5000.0</td>\n",
       "      <td>5000.0</td>\n",
       "      <td>-8.185459</td>\n",
       "      <td>110.691722</td>\n",
       "      <td>Nama bukit Pengilon berasal dari bahasa Jawa y...</td>\n",
       "      <td>https://www.tiket.com/to-do/search?title=Bukit...</td>\n",
       "      <td>The name of the Bukit Pengilon comes from Java...</td>\n",
       "      <td>Natural</td>\n",
       "      <td>Natural The name of the Bukit Pengilon comes f...</td>\n",
       "      <td>1-4MUs_X2zn5KTtCr4gV8e33tHSCS3qJH</td>\n",
       "      <td>https://drive.google.com/uc?id=1-4MUs_X2zn5KTt...</td>\n",
       "    </tr>\n",
       "    <tr>\n",
       "      <th>122</th>\n",
       "      <td>262</td>\n",
       "      <td>Ijo Temple Wooden Mosque</td>\n",
       "      <td>4.4</td>\n",
       "      <td>33</td>\n",
       "      <td>Pantai</td>\n",
       "      <td>0.0</td>\n",
       "      <td>0.0</td>\n",
       "      <td>-7.784753</td>\n",
       "      <td>110.512844</td>\n",
       "      <td>Pasoedjoedan Al Liwung atau yang dikenal denga...</td>\n",
       "      <td>https://www.tiket.com/to-do/search?title=Ijo%2...</td>\n",
       "      <td>Pasoedjoedan Al Liwung or known as the Temple ...</td>\n",
       "      <td>Beach</td>\n",
       "      <td>Beach Pasoedjoedan Al Liwung or known as the T...</td>\n",
       "      <td>1mKPiMdkLM0yC-waHHQStdUxVNbRaXgCd</td>\n",
       "      <td>https://drive.google.com/uc?id=1mKPiMdkLM0yC-w...</td>\n",
       "    </tr>\n",
       "    <tr>\n",
       "      <th>123</th>\n",
       "      <td>75</td>\n",
       "      <td>Museum Batik Keraton Yogyakarta</td>\n",
       "      <td>4.9</td>\n",
       "      <td>20</td>\n",
       "      <td>Wisata Alam</td>\n",
       "      <td>20000.0</td>\n",
       "      <td>20000.0</td>\n",
       "      <td>-7.807514</td>\n",
       "      <td>110.364589</td>\n",
       "      <td>Di Museum Batik Keraton Yogyakarta, wisatawan ...</td>\n",
       "      <td>https://www.tiket.com/to-do/search?title=Museu...</td>\n",
       "      <td>At the Yogyakarta Palace Batik Museum, tourist...</td>\n",
       "      <td>Natural tourism</td>\n",
       "      <td>Natural tourism At the Yogyakarta Palace Batik...</td>\n",
       "      <td>1rMe-9-PsslqPJq311hgxZbLbFtePrL3h</td>\n",
       "      <td>https://drive.google.com/uc?id=1rMe-9-PsslqPJq...</td>\n",
       "    </tr>\n",
       "    <tr>\n",
       "      <th>124</th>\n",
       "      <td>250</td>\n",
       "      <td>Candi ASU Klaten</td>\n",
       "      <td>4.2</td>\n",
       "      <td>5</td>\n",
       "      <td>Wisata Alam</td>\n",
       "      <td>3000.0</td>\n",
       "      <td>3000.0</td>\n",
       "      <td>-7.742302</td>\n",
       "      <td>110.515587</td>\n",
       "      <td>Letaknya di Dk. Bener Ds. Bugisan Kec. Pramban...</td>\n",
       "      <td>https://www.tiket.com/to-do/search?title=Candi...</td>\n",
       "      <td>It is located on DK.Really Ds.Bugisan Kec.Pram...</td>\n",
       "      <td>Natural tourism</td>\n",
       "      <td>Natural tourism It is located on DK.Really Ds....</td>\n",
       "      <td>1Ydzo3uCHcwj4lKp_w4hcpOi3yiyle1hK</td>\n",
       "      <td>https://drive.google.com/uc?id=1Ydzo3uCHcwj4lK...</td>\n",
       "    </tr>\n",
       "    <tr>\n",
       "      <th>125</th>\n",
       "      <td>443</td>\n",
       "      <td>Wisata Air Wanatirta Kencana</td>\n",
       "      <td>5.0</td>\n",
       "      <td>1</td>\n",
       "      <td>Wisata Air</td>\n",
       "      <td>10000.0</td>\n",
       "      <td>15000.0</td>\n",
       "      <td>-7.891443</td>\n",
       "      <td>110.548354</td>\n",
       "      <td>Wahana bermain air di Taman Wisata Air Tirta K...</td>\n",
       "      <td>https://www.tiket.com/to-do/search?title=Wisat...</td>\n",
       "      <td>Wahana playing water in the Tirta Kencana Air ...</td>\n",
       "      <td>Water Tourism</td>\n",
       "      <td>Water Tourism Wahana playing water in the Tirt...</td>\n",
       "      <td>1o6JiKLrj8M2K40XGVx_6jImzEE1w3mfq</td>\n",
       "      <td>https://drive.google.com/uc?id=1o6JiKLrj8M2K40...</td>\n",
       "    </tr>\n",
       "  </tbody>\n",
       "</table>\n",
       "<p>126 rows × 16 columns</p>\n",
       "</div>"
      ],
      "text/plain": [
       "      no                                           nama  vote_average  \\\n",
       "0      9                                Candi Borobudur           4.7   \n",
       "1     10                                Candi Prambanan           4.7   \n",
       "2     24                                  Tebing Breksi           4.4   \n",
       "3    343                               Gembira Loka Zoo           4.5   \n",
       "4    346  The Palace of Yogyakarta (Keraton Yogyakarta)           4.6   \n",
       "..   ...                                            ...           ...   \n",
       "121    7                                 Bukit Pengilon           4.6   \n",
       "122  262                       Ijo Temple Wooden Mosque           4.4   \n",
       "123   75                Museum Batik Keraton Yogyakarta           4.9   \n",
       "124  250                               Candi ASU Klaten           4.2   \n",
       "125  443                   Wisata Air Wanatirta Kencana           5.0   \n",
       "\n",
       "     vote_count                type  htm_weekday  htm_weekend  latitude  \\\n",
       "0         81922  Budaya dan Sejarah      50000.0      50000.0 -7.607087   \n",
       "1         71751  Budaya dan Sejarah      50000.0      50000.0 -7.751835   \n",
       "2         51431                Alam      10000.0      10000.0 -7.781477   \n",
       "3         36337               Fauna      20000.0      25000.0 -7.806234   \n",
       "4         30091  Budaya dan Sejarah       8000.0       8000.0 -7.805284   \n",
       "..          ...                 ...          ...          ...       ...   \n",
       "121         439                Alam       5000.0       5000.0 -8.185459   \n",
       "122          33              Pantai          0.0          0.0 -7.784753   \n",
       "123          20         Wisata Alam      20000.0      20000.0 -7.807514   \n",
       "124           5         Wisata Alam       3000.0       3000.0 -7.742302   \n",
       "125           1          Wisata Air      10000.0      15000.0 -7.891443   \n",
       "\n",
       "      longitude                                        description  \\\n",
       "0    110.203623  Candi yang pernah masuk sebagai salah satu dar...   \n",
       "1    110.491532  Candi Prambanan adalah kompleks candi Hindu te...   \n",
       "2    110.504576  Tebing Breksi merupakan tempat wisata yang ber...   \n",
       "3    110.396798  Gambira Loka adalah kebun binatang yang berada...   \n",
       "4    110.364203  Kompleks keraton merupakan museum yang menyimp...   \n",
       "..          ...                                                ...   \n",
       "121  110.691722  Nama bukit Pengilon berasal dari bahasa Jawa y...   \n",
       "122  110.512844  Pasoedjoedan Al Liwung atau yang dikenal denga...   \n",
       "123  110.364589  Di Museum Batik Keraton Yogyakarta, wisatawan ...   \n",
       "124  110.515587  Letaknya di Dk. Bener Ds. Bugisan Kec. Pramban...   \n",
       "125  110.548354  Wahana bermain air di Taman Wisata Air Tirta K...   \n",
       "\n",
       "                                              aff_link  \\\n",
       "0    https://www.tiket.com/to-do/search?title=Candi...   \n",
       "1    https://www.tiket.com/to-do/search?title=Candi...   \n",
       "2    https://www.tiket.com/to-do/search?title=Tebin...   \n",
       "3    https://www.tiket.com/to-do/search?title=Gembi...   \n",
       "4    https://www.tiket.com/to-do/search?title=The%2...   \n",
       "..                                                 ...   \n",
       "121  https://www.tiket.com/to-do/search?title=Bukit...   \n",
       "122  https://www.tiket.com/to-do/search?title=Ijo%2...   \n",
       "123  https://www.tiket.com/to-do/search?title=Museu...   \n",
       "124  https://www.tiket.com/to-do/search?title=Candi...   \n",
       "125  https://www.tiket.com/to-do/search?title=Wisat...   \n",
       "\n",
       "                                            trans_desc                types  \\\n",
       "0    The temple, which had entered as one of the se...  Culture and history   \n",
       "1    Prambanan Temple is the largest Hindu temple c...  Culture and history   \n",
       "2    Tebing Breksi is a tourist spot in the Sleman ...              Natural   \n",
       "3    Gambira Loka is a zoo in Yogyakarta.Contains a...                Fauna   \n",
       "4    The palace complex is a museum that stores var...  Culture and history   \n",
       "..                                                 ...                  ...   \n",
       "121  The name of the Bukit Pengilon comes from Java...              Natural   \n",
       "122  Pasoedjoedan Al Liwung or known as the Temple ...                Beach   \n",
       "123  At the Yogyakarta Palace Batik Museum, tourist...      Natural tourism   \n",
       "124  It is located on DK.Really Ds.Bugisan Kec.Pram...      Natural tourism   \n",
       "125  Wahana playing water in the Tirta Kencana Air ...        Water Tourism   \n",
       "\n",
       "                                              combined  \\\n",
       "0    Culture and history The temple, which had ente...   \n",
       "1    Culture and history Prambanan Temple is the la...   \n",
       "2    Natural Tebing Breksi is a tourist spot in the...   \n",
       "3    Fauna Gambira Loka is a zoo in Yogyakarta.Cont...   \n",
       "4    Culture and history The palace complex is a mu...   \n",
       "..                                                 ...   \n",
       "121  Natural The name of the Bukit Pengilon comes f...   \n",
       "122  Beach Pasoedjoedan Al Liwung or known as the T...   \n",
       "123  Natural tourism At the Yogyakarta Palace Batik...   \n",
       "124  Natural tourism It is located on DK.Really Ds....   \n",
       "125  Water Tourism Wahana playing water in the Tirt...   \n",
       "\n",
       "                               file_id  \\\n",
       "0    17RA7iM5WIU1ewID8mTw47wSwzFHWxIVq   \n",
       "1    1ug2o4IWvGLvxeG3HAVm5glMRvhhLgpQQ   \n",
       "2    1TAZvvlwY3JMuPcsQ3i9PrSxXXMKh7sVJ   \n",
       "3    1vITPWWt8GwxYguFDm3JED6DsZRDm_HsP   \n",
       "4    1TEv0oeZu1YWhjCIoyUZSuJn4rUeofrc0   \n",
       "..                                 ...   \n",
       "121  1-4MUs_X2zn5KTtCr4gV8e33tHSCS3qJH   \n",
       "122  1mKPiMdkLM0yC-waHHQStdUxVNbRaXgCd   \n",
       "123  1rMe-9-PsslqPJq311hgxZbLbFtePrL3h   \n",
       "124  1Ydzo3uCHcwj4lKp_w4hcpOi3yiyle1hK   \n",
       "125  1o6JiKLrj8M2K40XGVx_6jImzEE1w3mfq   \n",
       "\n",
       "                                            image_link  \n",
       "0    https://drive.google.com/uc?id=17RA7iM5WIU1ewI...  \n",
       "1    https://drive.google.com/uc?id=1ug2o4IWvGLvxeG...  \n",
       "2    https://drive.google.com/uc?id=1TAZvvlwY3JMuPc...  \n",
       "3    https://drive.google.com/uc?id=1vITPWWt8GwxYgu...  \n",
       "4    https://drive.google.com/uc?id=1TEv0oeZu1YWhjC...  \n",
       "..                                                 ...  \n",
       "121  https://drive.google.com/uc?id=1-4MUs_X2zn5KTt...  \n",
       "122  https://drive.google.com/uc?id=1mKPiMdkLM0yC-w...  \n",
       "123  https://drive.google.com/uc?id=1rMe-9-PsslqPJq...  \n",
       "124  https://drive.google.com/uc?id=1Ydzo3uCHcwj4lK...  \n",
       "125  https://drive.google.com/uc?id=1o6JiKLrj8M2K40...  \n",
       "\n",
       "[126 rows x 16 columns]"
      ]
     },
     "execution_count": 15,
     "metadata": {},
     "output_type": "execute_result"
    }
   ],
   "source": [
    "df"
   ]
  },
  {
   "cell_type": "code",
   "execution_count": 16,
   "metadata": {},
   "outputs": [
    {
     "name": "stderr",
     "output_type": "stream",
     "text": [
      "[nltk_data] Downloading package stopwords to\n",
      "[nltk_data]     C:\\Users\\N4N0C\\AppData\\Roaming\\nltk_data...\n",
      "[nltk_data]   Package stopwords is already up-to-date!\n"
     ]
    },
    {
     "data": {
      "text/plain": [
       "True"
      ]
     },
     "execution_count": 16,
     "metadata": {},
     "output_type": "execute_result"
    }
   ],
   "source": [
    "nltk.download('stopwords')"
   ]
  },
  {
   "cell_type": "code",
   "execution_count": 17,
   "metadata": {},
   "outputs": [],
   "source": [
    "from nltk.corpus import stopwords\n",
    "\n",
    "stop_words = set(stopwords.words('english'))\n",
    "\n",
    "df['cleaned_combined'] = df['combined'].apply(\n",
    "    lambda x: ' '.join(word for word in x.split() if word.lower() not in stop_words)\n",
    ")"
   ]
  },
  {
   "cell_type": "code",
   "execution_count": 18,
   "metadata": {},
   "outputs": [],
   "source": [
    "tokenizer = Tokenizer()\n",
    "tokenizer.fit_on_texts(df['cleaned_combined'])\n",
    "sequences = tokenizer.texts_to_sequences(df['cleaned_combined'])\n",
    "sequences = pad_sequences(sequences, padding='post')"
   ]
  },
  {
   "cell_type": "code",
   "execution_count": 19,
   "metadata": {},
   "outputs": [],
   "source": [
    "label_map = {name: idx for idx, name in enumerate(set(df['types']))}\n",
    "y = [label_map[name] for name in df['types']]"
   ]
  },
  {
   "cell_type": "code",
   "execution_count": 20,
   "metadata": {},
   "outputs": [],
   "source": [
    "X_train, X_val, y_train, y_val = train_test_split(sequences, y, test_size=0.2, random_state=42)"
   ]
  },
  {
   "cell_type": "code",
   "execution_count": 21,
   "metadata": {},
   "outputs": [],
   "source": [
    "vocab_size = len(tokenizer.word_index) + 1\n",
    "embedding_dim = 128\n",
    "output_dim = len(label_map)"
   ]
  },
  {
   "cell_type": "code",
   "execution_count": 22,
   "metadata": {},
   "outputs": [
    {
     "name": "stderr",
     "output_type": "stream",
     "text": [
      "c:\\Users\\N4N0C\\Downloads\\capstone\\.conda\\Lib\\site-packages\\keras\\src\\layers\\core\\embedding.py:90: UserWarning: Argument `input_length` is deprecated. Just remove it.\n",
      "  warnings.warn(\n",
      "c:\\Users\\N4N0C\\Downloads\\capstone\\.conda\\Lib\\site-packages\\keras\\src\\layers\\core\\embedding.py:93: UserWarning: Do not pass an `input_shape`/`input_dim` argument to a layer. When using Sequential models, prefer using an `Input(shape)` object as the first layer in the model instead.\n",
      "  super().__init__(**kwargs)\n"
     ]
    }
   ],
   "source": [
    "model = Sequential()\n",
    "model.add(Embedding(input_dim=len(tokenizer.word_index) + 1, output_dim=128, input_length=sequences.shape[1],\n",
    "                    input_shape=(sequences.shape[1],)))\n",
    "model.add(LSTM(256, return_sequences=True, dropout=0.4, recurrent_dropout=0.2))\n",
    "model.add(Bidirectional(LSTM(128, dropout=0.4, recurrent_dropout=0.2)))\n",
    "model.add(Dense(64, activation='relu'))\n",
    "model.add(Dense(len(label_map), activation='softmax'))"
   ]
  },
  {
   "cell_type": "code",
   "execution_count": 23,
   "metadata": {},
   "outputs": [
    {
     "data": {
      "text/html": [
       "<pre style=\"white-space:pre;overflow-x:auto;line-height:normal;font-family:Menlo,'DejaVu Sans Mono',consolas,'Courier New',monospace\"><span style=\"font-weight: bold\">Model: \"sequential\"</span>\n",
       "</pre>\n"
      ],
      "text/plain": [
       "\u001b[1mModel: \"sequential\"\u001b[0m\n"
      ]
     },
     "metadata": {},
     "output_type": "display_data"
    },
    {
     "data": {
      "text/html": [
       "<pre style=\"white-space:pre;overflow-x:auto;line-height:normal;font-family:Menlo,'DejaVu Sans Mono',consolas,'Courier New',monospace\">┏━━━━━━━━━━━━━━━━━━━━━━━━━━━━━━━━━┳━━━━━━━━━━━━━━━━━━━━━━━━┳━━━━━━━━━━━━━━━┓\n",
       "┃<span style=\"font-weight: bold\"> Layer (type)                    </span>┃<span style=\"font-weight: bold\"> Output Shape           </span>┃<span style=\"font-weight: bold\">       Param # </span>┃\n",
       "┡━━━━━━━━━━━━━━━━━━━━━━━━━━━━━━━━━╇━━━━━━━━━━━━━━━━━━━━━━━━╇━━━━━━━━━━━━━━━┩\n",
       "│ embedding (<span style=\"color: #0087ff; text-decoration-color: #0087ff\">Embedding</span>)           │ (<span style=\"color: #00d7ff; text-decoration-color: #00d7ff\">None</span>, <span style=\"color: #00af00; text-decoration-color: #00af00\">182</span>, <span style=\"color: #00af00; text-decoration-color: #00af00\">128</span>)       │       <span style=\"color: #00af00; text-decoration-color: #00af00\">287,232</span> │\n",
       "├─────────────────────────────────┼────────────────────────┼───────────────┤\n",
       "│ lstm (<span style=\"color: #0087ff; text-decoration-color: #0087ff\">LSTM</span>)                     │ (<span style=\"color: #00d7ff; text-decoration-color: #00d7ff\">None</span>, <span style=\"color: #00af00; text-decoration-color: #00af00\">182</span>, <span style=\"color: #00af00; text-decoration-color: #00af00\">256</span>)       │       <span style=\"color: #00af00; text-decoration-color: #00af00\">394,240</span> │\n",
       "├─────────────────────────────────┼────────────────────────┼───────────────┤\n",
       "│ bidirectional (<span style=\"color: #0087ff; text-decoration-color: #0087ff\">Bidirectional</span>)   │ (<span style=\"color: #00d7ff; text-decoration-color: #00d7ff\">None</span>, <span style=\"color: #00af00; text-decoration-color: #00af00\">256</span>)            │       <span style=\"color: #00af00; text-decoration-color: #00af00\">394,240</span> │\n",
       "├─────────────────────────────────┼────────────────────────┼───────────────┤\n",
       "│ dense (<span style=\"color: #0087ff; text-decoration-color: #0087ff\">Dense</span>)                   │ (<span style=\"color: #00d7ff; text-decoration-color: #00d7ff\">None</span>, <span style=\"color: #00af00; text-decoration-color: #00af00\">64</span>)             │        <span style=\"color: #00af00; text-decoration-color: #00af00\">16,448</span> │\n",
       "├─────────────────────────────────┼────────────────────────┼───────────────┤\n",
       "│ dense_1 (<span style=\"color: #0087ff; text-decoration-color: #0087ff\">Dense</span>)                 │ (<span style=\"color: #00d7ff; text-decoration-color: #00d7ff\">None</span>, <span style=\"color: #00af00; text-decoration-color: #00af00\">22</span>)             │         <span style=\"color: #00af00; text-decoration-color: #00af00\">1,430</span> │\n",
       "└─────────────────────────────────┴────────────────────────┴───────────────┘\n",
       "</pre>\n"
      ],
      "text/plain": [
       "┏━━━━━━━━━━━━━━━━━━━━━━━━━━━━━━━━━┳━━━━━━━━━━━━━━━━━━━━━━━━┳━━━━━━━━━━━━━━━┓\n",
       "┃\u001b[1m \u001b[0m\u001b[1mLayer (type)                   \u001b[0m\u001b[1m \u001b[0m┃\u001b[1m \u001b[0m\u001b[1mOutput Shape          \u001b[0m\u001b[1m \u001b[0m┃\u001b[1m \u001b[0m\u001b[1m      Param #\u001b[0m\u001b[1m \u001b[0m┃\n",
       "┡━━━━━━━━━━━━━━━━━━━━━━━━━━━━━━━━━╇━━━━━━━━━━━━━━━━━━━━━━━━╇━━━━━━━━━━━━━━━┩\n",
       "│ embedding (\u001b[38;5;33mEmbedding\u001b[0m)           │ (\u001b[38;5;45mNone\u001b[0m, \u001b[38;5;34m182\u001b[0m, \u001b[38;5;34m128\u001b[0m)       │       \u001b[38;5;34m287,232\u001b[0m │\n",
       "├─────────────────────────────────┼────────────────────────┼───────────────┤\n",
       "│ lstm (\u001b[38;5;33mLSTM\u001b[0m)                     │ (\u001b[38;5;45mNone\u001b[0m, \u001b[38;5;34m182\u001b[0m, \u001b[38;5;34m256\u001b[0m)       │       \u001b[38;5;34m394,240\u001b[0m │\n",
       "├─────────────────────────────────┼────────────────────────┼───────────────┤\n",
       "│ bidirectional (\u001b[38;5;33mBidirectional\u001b[0m)   │ (\u001b[38;5;45mNone\u001b[0m, \u001b[38;5;34m256\u001b[0m)            │       \u001b[38;5;34m394,240\u001b[0m │\n",
       "├─────────────────────────────────┼────────────────────────┼───────────────┤\n",
       "│ dense (\u001b[38;5;33mDense\u001b[0m)                   │ (\u001b[38;5;45mNone\u001b[0m, \u001b[38;5;34m64\u001b[0m)             │        \u001b[38;5;34m16,448\u001b[0m │\n",
       "├─────────────────────────────────┼────────────────────────┼───────────────┤\n",
       "│ dense_1 (\u001b[38;5;33mDense\u001b[0m)                 │ (\u001b[38;5;45mNone\u001b[0m, \u001b[38;5;34m22\u001b[0m)             │         \u001b[38;5;34m1,430\u001b[0m │\n",
       "└─────────────────────────────────┴────────────────────────┴───────────────┘\n"
      ]
     },
     "metadata": {},
     "output_type": "display_data"
    },
    {
     "data": {
      "text/html": [
       "<pre style=\"white-space:pre;overflow-x:auto;line-height:normal;font-family:Menlo,'DejaVu Sans Mono',consolas,'Courier New',monospace\"><span style=\"font-weight: bold\"> Total params: </span><span style=\"color: #00af00; text-decoration-color: #00af00\">1,093,590</span> (4.17 MB)\n",
       "</pre>\n"
      ],
      "text/plain": [
       "\u001b[1m Total params: \u001b[0m\u001b[38;5;34m1,093,590\u001b[0m (4.17 MB)\n"
      ]
     },
     "metadata": {},
     "output_type": "display_data"
    },
    {
     "data": {
      "text/html": [
       "<pre style=\"white-space:pre;overflow-x:auto;line-height:normal;font-family:Menlo,'DejaVu Sans Mono',consolas,'Courier New',monospace\"><span style=\"font-weight: bold\"> Trainable params: </span><span style=\"color: #00af00; text-decoration-color: #00af00\">1,093,590</span> (4.17 MB)\n",
       "</pre>\n"
      ],
      "text/plain": [
       "\u001b[1m Trainable params: \u001b[0m\u001b[38;5;34m1,093,590\u001b[0m (4.17 MB)\n"
      ]
     },
     "metadata": {},
     "output_type": "display_data"
    },
    {
     "data": {
      "text/html": [
       "<pre style=\"white-space:pre;overflow-x:auto;line-height:normal;font-family:Menlo,'DejaVu Sans Mono',consolas,'Courier New',monospace\"><span style=\"font-weight: bold\"> Non-trainable params: </span><span style=\"color: #00af00; text-decoration-color: #00af00\">0</span> (0.00 B)\n",
       "</pre>\n"
      ],
      "text/plain": [
       "\u001b[1m Non-trainable params: \u001b[0m\u001b[38;5;34m0\u001b[0m (0.00 B)\n"
      ]
     },
     "metadata": {},
     "output_type": "display_data"
    }
   ],
   "source": [
    "model.summary()"
   ]
  },
  {
   "cell_type": "code",
   "execution_count": 24,
   "metadata": {},
   "outputs": [],
   "source": [
    "optimizer = Adam(learning_rate=0.01)"
   ]
  },
  {
   "cell_type": "code",
   "execution_count": 25,
   "metadata": {},
   "outputs": [],
   "source": [
    "class myCallback(tf.keras.callbacks.Callback):\n",
    "    def on_epoch_end(self, epoch, logs=None):\n",
    "        if logs.get('accuracy') is not None and logs.get('accuracy') > 0.90:\n",
    "            print(\"\\nReached 90% accuracy so cancelling training!\")\n",
    "            self.model.stop_training = True"
   ]
  },
  {
   "cell_type": "code",
   "execution_count": 26,
   "metadata": {},
   "outputs": [],
   "source": [
    "X_train = np.array(X_train)\n",
    "y_train = np.array(y_train)"
   ]
  },
  {
   "cell_type": "code",
   "execution_count": 27,
   "metadata": {},
   "outputs": [],
   "source": [
    "X_val = np.array(X_val)\n",
    "y_val = np.array(y_val)"
   ]
  },
  {
   "cell_type": "code",
   "execution_count": 28,
   "metadata": {},
   "outputs": [],
   "source": [
    "model.compile(optimizer=optimizer, loss='sparse_categorical_crossentropy', metrics=['accuracy'])"
   ]
  },
  {
   "cell_type": "code",
   "execution_count": 29,
   "metadata": {},
   "outputs": [
    {
     "name": "stdout",
     "output_type": "stream",
     "text": [
      "Epoch 1/30\n",
      "\u001b[1m7/7\u001b[0m \u001b[32m━━━━━━━━━━━━━━━━━━━━\u001b[0m\u001b[37m\u001b[0m \u001b[1m15s\u001b[0m 818ms/step - accuracy: 0.1087 - loss: 3.0581 - val_accuracy: 0.1923 - val_loss: 2.5386\n",
      "Epoch 2/30\n",
      "\u001b[1m7/7\u001b[0m \u001b[32m━━━━━━━━━━━━━━━━━━━━\u001b[0m\u001b[37m\u001b[0m \u001b[1m4s\u001b[0m 573ms/step - accuracy: 0.4321 - loss: 2.1163 - val_accuracy: 0.3462 - val_loss: 2.1509\n",
      "Epoch 3/30\n",
      "\u001b[1m7/7\u001b[0m \u001b[32m━━━━━━━━━━━━━━━━━━━━\u001b[0m\u001b[37m\u001b[0m \u001b[1m3s\u001b[0m 467ms/step - accuracy: 0.5543 - loss: 1.8913 - val_accuracy: 0.3462 - val_loss: 1.9975\n",
      "Epoch 4/30\n",
      "\u001b[1m7/7\u001b[0m \u001b[32m━━━━━━━━━━━━━━━━━━━━\u001b[0m\u001b[37m\u001b[0m \u001b[1m4s\u001b[0m 553ms/step - accuracy: 0.4910 - loss: 1.5337 - val_accuracy: 0.3462 - val_loss: 1.7452\n",
      "Epoch 5/30\n",
      "\u001b[1m7/7\u001b[0m \u001b[32m━━━━━━━━━━━━━━━━━━━━\u001b[0m\u001b[37m\u001b[0m \u001b[1m3s\u001b[0m 462ms/step - accuracy: 0.5658 - loss: 1.6138 - val_accuracy: 0.4231 - val_loss: 1.9016\n",
      "Epoch 6/30\n",
      "\u001b[1m7/7\u001b[0m \u001b[32m━━━━━━━━━━━━━━━━━━━━\u001b[0m\u001b[37m\u001b[0m \u001b[1m4s\u001b[0m 553ms/step - accuracy: 0.5890 - loss: 1.5262 - val_accuracy: 0.3846 - val_loss: 1.8486\n",
      "Epoch 7/30\n",
      "\u001b[1m7/7\u001b[0m \u001b[32m━━━━━━━━━━━━━━━━━━━━\u001b[0m\u001b[37m\u001b[0m \u001b[1m4s\u001b[0m 515ms/step - accuracy: 0.6661 - loss: 1.3059 - val_accuracy: 0.3846 - val_loss: 1.7600\n",
      "Epoch 8/30\n",
      "\u001b[1m7/7\u001b[0m \u001b[32m━━━━━━━━━━━━━━━━━━━━\u001b[0m\u001b[37m\u001b[0m \u001b[1m4s\u001b[0m 556ms/step - accuracy: 0.6238 - loss: 1.3577 - val_accuracy: 0.3846 - val_loss: 1.5260\n",
      "Epoch 9/30\n",
      "\u001b[1m7/7\u001b[0m \u001b[32m━━━━━━━━━━━━━━━━━━━━\u001b[0m\u001b[37m\u001b[0m \u001b[1m4s\u001b[0m 591ms/step - accuracy: 0.6717 - loss: 1.2274 - val_accuracy: 0.4231 - val_loss: 1.5878\n",
      "Epoch 10/30\n",
      "\u001b[1m7/7\u001b[0m \u001b[32m━━━━━━━━━━━━━━━━━━━━\u001b[0m\u001b[37m\u001b[0m \u001b[1m4s\u001b[0m 541ms/step - accuracy: 0.6486 - loss: 1.0034 - val_accuracy: 0.8077 - val_loss: 1.3790\n",
      "Epoch 11/30\n",
      "\u001b[1m7/7\u001b[0m \u001b[32m━━━━━━━━━━━━━━━━━━━━\u001b[0m\u001b[37m\u001b[0m \u001b[1m3s\u001b[0m 435ms/step - accuracy: 0.7974 - loss: 0.8961 - val_accuracy: 0.8846 - val_loss: 1.2252\n",
      "Epoch 12/30\n",
      "\u001b[1m7/7\u001b[0m \u001b[32m━━━━━━━━━━━━━━━━━━━━\u001b[0m\u001b[37m\u001b[0m \u001b[1m3s\u001b[0m 403ms/step - accuracy: 0.7235 - loss: 0.8533 - val_accuracy: 0.8846 - val_loss: 1.1953\n",
      "Epoch 13/30\n",
      "\u001b[1m7/7\u001b[0m \u001b[32m━━━━━━━━━━━━━━━━━━━━\u001b[0m\u001b[37m\u001b[0m \u001b[1m9s\u001b[0m 1s/step - accuracy: 0.8024 - loss: 0.6527 - val_accuracy: 0.8846 - val_loss: 1.2091\n",
      "Epoch 14/30\n",
      "\u001b[1m7/7\u001b[0m \u001b[32m━━━━━━━━━━━━━━━━━━━━\u001b[0m\u001b[37m\u001b[0m \u001b[1m5s\u001b[0m 686ms/step - accuracy: 0.8289 - loss: 0.5907 - val_accuracy: 0.8846 - val_loss: 1.0615\n",
      "Epoch 15/30\n",
      "\u001b[1m7/7\u001b[0m \u001b[32m━━━━━━━━━━━━━━━━━━━━\u001b[0m\u001b[37m\u001b[0m \u001b[1m4s\u001b[0m 586ms/step - accuracy: 0.8882 - loss: 0.4314 - val_accuracy: 0.8462 - val_loss: 1.0338\n",
      "Epoch 16/30\n",
      "\u001b[1m7/7\u001b[0m \u001b[32m━━━━━━━━━━━━━━━━━━━━\u001b[0m\u001b[37m\u001b[0m \u001b[1m4s\u001b[0m 495ms/step - accuracy: 0.8940 - loss: 0.4142 - val_accuracy: 0.9231 - val_loss: 1.0481\n",
      "Epoch 17/30\n",
      "\u001b[1m7/7\u001b[0m \u001b[32m━━━━━━━━━━━━━━━━━━━━\u001b[0m\u001b[37m\u001b[0m \u001b[1m3s\u001b[0m 444ms/step - accuracy: 0.8665 - loss: 0.4967 - val_accuracy: 0.9231 - val_loss: 0.8465\n",
      "Epoch 18/30\n",
      "\u001b[1m7/7\u001b[0m \u001b[32m━━━━━━━━━━━━━━━━━━━━\u001b[0m\u001b[37m\u001b[0m \u001b[1m0s\u001b[0m 444ms/step - accuracy: 0.9296 - loss: 0.3319\n",
      "Reached 90% accuracy so cancelling training!\n",
      "\u001b[1m7/7\u001b[0m \u001b[32m━━━━━━━━━━━━━━━━━━━━\u001b[0m\u001b[37m\u001b[0m \u001b[1m3s\u001b[0m 487ms/step - accuracy: 0.9271 - loss: 0.3370 - val_accuracy: 0.9231 - val_loss: 0.8525\n"
     ]
    }
   ],
   "source": [
    "callbacks = [myCallback()]\n",
    "history = model.fit(np.array(X_train), np.array(y_train), epochs=30, batch_size=16,\n",
    "                    validation_data=(np.array(X_val), np.array(y_val)), callbacks=callbacks)"
   ]
  },
  {
   "cell_type": "code",
   "execution_count": 59,
   "metadata": {},
   "outputs": [
    {
     "name": "stdout",
     "output_type": "stream",
     "text": [
      "\u001b[1m1/1\u001b[0m \u001b[32m━━━━━━━━━━━━━━━━━━━━\u001b[0m\u001b[37m\u001b[0m \u001b[1m0s\u001b[0m 85ms/step\n",
      "Recommended Places: ['The World Landmarks - Merapi Park Yogyakarta', 'Sindu Kusuma Edupark (SKE)', 'Heha Sky View', 'XT Square', 'Embung Tambakboyo']\n"
     ]
    }
   ],
   "source": [
    "def recommend_places(keywords, tokenizer, model, label_map, df, top_n=5):\n",
    "    # Preprocess the keywords\n",
    "    keywords_sequence = tokenizer.texts_to_sequences(keywords)\n",
    "    keywords_padded = pad_sequences(keywords_sequence, padding='post')\n",
    "\n",
    "    # Predict the category\n",
    "    predictions = model.predict(keywords_padded)\n",
    "    predicted_category_idx = predictions.argmax(axis=1)[0]\n",
    "    predicted_category = list(label_map.keys())[list(label_map.values()).index(predicted_category_idx)]\n",
    "\n",
    "    # Filter places based on the predicted category\n",
    "    filtered_places = df[df['types'] == predicted_category]\n",
    "\n",
    "    # Get top N places\n",
    "    recommended_places = filtered_places['nama'].head(top_n).tolist()\n",
    "\n",
    "    return recommended_places\n",
    "\n",
    "keywords = [\"kraton\"]\n",
    "recommended_places = recommend_places(keywords, tokenizer, model, label_map, df, top_n=5)\n",
    "print(\"Recommended Places:\", recommended_places)"
   ]
  },
  {
   "cell_type": "code",
   "execution_count": 31,
   "metadata": {},
   "outputs": [
    {
     "name": "stderr",
     "output_type": "stream",
     "text": [
      "WARNING:absl:You are saving your model as an HDF5 file via `model.save()` or `keras.saving.save_model(model)`. This file format is considered legacy. We recommend using instead the native Keras format, e.g. `model.save('my_model.keras')` or `keras.saving.save_model(model, 'my_model.keras')`. \n"
     ]
    }
   ],
   "source": [
    "model.save('final_capstone_model.h5')"
   ]
  },
  {
   "cell_type": "code",
   "execution_count": 32,
   "metadata": {},
   "outputs": [],
   "source": [
    "model.save('final_capstone_model.keras')"
   ]
  },
  {
   "cell_type": "code",
   "execution_count": 33,
   "metadata": {},
   "outputs": [
    {
     "name": "stderr",
     "output_type": "stream",
     "text": [
      "c:\\Users\\N4N0C\\Downloads\\capstone\\.conda\\Lib\\site-packages\\keras\\src\\saving\\saving_lib.py:757: UserWarning: Skipping variable loading for optimizer 'rmsprop', because it has 16 variables whereas the saved optimizer has 30 variables. \n",
      "  saveable.load_own_variables(weights_store.get(inner_path))\n"
     ]
    },
    {
     "name": "stdout",
     "output_type": "stream",
     "text": [
      "INFO:tensorflow:Assets written to: C:\\Users\\N4N0C\\AppData\\Local\\Temp\\tmpe3wf_dtu\\assets\n"
     ]
    },
    {
     "name": "stderr",
     "output_type": "stream",
     "text": [
      "INFO:tensorflow:Assets written to: C:\\Users\\N4N0C\\AppData\\Local\\Temp\\tmpe3wf_dtu\\assets\n"
     ]
    },
    {
     "name": "stdout",
     "output_type": "stream",
     "text": [
      "Saved artifact at 'C:\\Users\\N4N0C\\AppData\\Local\\Temp\\tmpe3wf_dtu'. The following endpoints are available:\n",
      "\n",
      "* Endpoint 'serve'\n",
      "  args_0 (POSITIONAL_ONLY): TensorSpec(shape=(None, 182), dtype=tf.float32, name='input_layer')\n",
      "Output Type:\n",
      "  TensorSpec(shape=(None, 22), dtype=tf.float32, name=None)\n",
      "Captures:\n",
      "  2495840820240: TensorSpec(shape=(), dtype=tf.resource, name=None)\n",
      "  2495840820624: TensorSpec(shape=(), dtype=tf.resource, name=None)\n",
      "  2495840818512: TensorSpec(shape=(), dtype=tf.resource, name=None)\n",
      "  2495840821008: TensorSpec(shape=(), dtype=tf.resource, name=None)\n",
      "  2495840821776: TensorSpec(shape=(), dtype=tf.resource, name=None)\n",
      "  2495928785168: TensorSpec(shape=(), dtype=tf.resource, name=None)\n",
      "  2495928783440: TensorSpec(shape=(), dtype=tf.resource, name=None)\n",
      "  2495928783824: TensorSpec(shape=(), dtype=tf.resource, name=None)\n",
      "  2495928788048: TensorSpec(shape=(), dtype=tf.resource, name=None)\n",
      "  2495928784400: TensorSpec(shape=(), dtype=tf.resource, name=None)\n",
      "  2495928784016: TensorSpec(shape=(), dtype=tf.resource, name=None)\n",
      "  2495928786704: TensorSpec(shape=(), dtype=tf.resource, name=None)\n",
      "  2495928785360: TensorSpec(shape=(), dtype=tf.resource, name=None)\n",
      "  2495928785552: TensorSpec(shape=(), dtype=tf.resource, name=None)\n",
      "  2495928790544: TensorSpec(shape=(), dtype=tf.resource, name=None)\n",
      "  2495928794000: TensorSpec(shape=(), dtype=tf.resource, name=None)\n",
      "  2495928794576: TensorSpec(shape=(), dtype=tf.resource, name=None)\n"
     ]
    }
   ],
   "source": [
    "import tensorflow as tf\n",
    "\n",
    "# Load the Keras model\n",
    "model = tf.keras.models.load_model('final_capstone_model.keras')\n",
    "\n",
    "# Create a TFLite converter\n",
    "converter = tf.lite.TFLiteConverter.from_keras_model(model)\n",
    "\n",
    "# Enable resource variables and disable lowering tensor list ops\n",
    "converter.experimental_enable_resource_variables = True\n",
    "converter._experimental_lower_tensor_list_ops = False  # Add this line\n",
    "\n",
    "# Set the supported ops to include SELECT_TF_OPS\n",
    "converter.target_spec.supported_ops = [\n",
    "    tf.lite.OpsSet.TFLITE_BUILTINS, tf.lite.OpsSet.SELECT_TF_OPS\n",
    "]\n",
    "\n",
    "# Convert the model\n",
    "tflite_model = converter.convert()\n",
    "\n",
    "# Save the TFLite model\n",
    "with open('final_capstone_model.tflite', 'wb') as f:\n",
    "    f.write(tflite_model)"
   ]
  },
  {
   "cell_type": "code",
   "execution_count": 34,
   "metadata": {},
   "outputs": [
    {
     "name": "stderr",
     "output_type": "stream",
     "text": [
      "WARNING:absl:Compiled the loaded model, but the compiled metrics have yet to be built. `model.compile_metrics` will be empty until you train or evaluate the model.\n"
     ]
    }
   ],
   "source": [
    "model = tf.keras.models.load_model('final_capstone_model.h5')"
   ]
  }
 ],
 "metadata": {
  "kernelspec": {
   "display_name": "Python 3",
   "language": "python",
   "name": "python3"
  },
  "language_info": {
   "codemirror_mode": {
    "name": "ipython",
    "version": 3
   },
   "file_extension": ".py",
   "mimetype": "text/x-python",
   "name": "python",
   "nbconvert_exporter": "python",
   "pygments_lexer": "ipython3",
   "version": "3.12.7"
  }
 },
 "nbformat": 4,
 "nbformat_minor": 2
}
