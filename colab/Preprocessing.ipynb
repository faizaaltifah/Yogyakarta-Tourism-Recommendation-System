{
  "nbformat": 4,
  "nbformat_minor": 0,
  "metadata": {
    "colab": {
      "provenance": []
    },
    "kernelspec": {
      "name": "python3",
      "display_name": "Python 3"
    },
    "language_info": {
      "name": "python"
    }
  },
  "cells": [
    {
      "cell_type": "code",
      "execution_count": null,
      "metadata": {
        "id": "pXdx58AUjzla"
      },
      "outputs": [],
      "source": [
        "import pandas as pd"
      ]
    },
    {
      "cell_type": "code",
      "source": [
        "df = pd.read_csv('/content/raw_data.csv')"
      ],
      "metadata": {
        "id": "2oMYkolCj35H"
      },
      "execution_count": null,
      "outputs": []
    },
    {
      "cell_type": "code",
      "source": [
        "df.info()"
      ],
      "metadata": {
        "colab": {
          "base_uri": "https://localhost:8080/"
        },
        "id": "U1B1bwhAkDKh",
        "outputId": "0dab12c7-b482-4e54-b7d4-f06775f0f7ac"
      },
      "execution_count": null,
      "outputs": [
        {
          "output_type": "stream",
          "name": "stdout",
          "text": [
            "<class 'pandas.core.frame.DataFrame'>\n",
            "RangeIndex: 476 entries, 0 to 475\n",
            "Data columns (total 10 columns):\n",
            " #   Column        Non-Null Count  Dtype  \n",
            "---  ------        --------------  -----  \n",
            " 0   no            476 non-null    int64  \n",
            " 1   nama          476 non-null    object \n",
            " 2   vote_average  476 non-null    float64\n",
            " 3   vote_count    476 non-null    int64  \n",
            " 4   type          476 non-null    object \n",
            " 5   htm_weekday   134 non-null    float64\n",
            " 6   htm_weekend   128 non-null    float64\n",
            " 7   latitude      473 non-null    float64\n",
            " 8   longitude     473 non-null    float64\n",
            " 9   description   144 non-null    object \n",
            "dtypes: float64(5), int64(2), object(3)\n",
            "memory usage: 37.3+ KB\n"
          ]
        }
      ]
    },
    {
      "cell_type": "code",
      "source": [
        "df.isnull().sum()"
      ],
      "metadata": {
        "colab": {
          "base_uri": "https://localhost:8080/",
          "height": 397
        },
        "id": "uhrbIAWnkWHU",
        "outputId": "709913d3-277e-4f99-b48b-6b88f723822b"
      },
      "execution_count": null,
      "outputs": [
        {
          "output_type": "execute_result",
          "data": {
            "text/plain": [
              "no                0\n",
              "nama              0\n",
              "vote_average      0\n",
              "vote_count        0\n",
              "type              0\n",
              "htm_weekday     342\n",
              "htm_weekend     348\n",
              "latitude          3\n",
              "longitude         3\n",
              "description     332\n",
              "dtype: int64"
            ],
            "text/html": [
              "<div>\n",
              "<style scoped>\n",
              "    .dataframe tbody tr th:only-of-type {\n",
              "        vertical-align: middle;\n",
              "    }\n",
              "\n",
              "    .dataframe tbody tr th {\n",
              "        vertical-align: top;\n",
              "    }\n",
              "\n",
              "    .dataframe thead th {\n",
              "        text-align: right;\n",
              "    }\n",
              "</style>\n",
              "<table border=\"1\" class=\"dataframe\">\n",
              "  <thead>\n",
              "    <tr style=\"text-align: right;\">\n",
              "      <th></th>\n",
              "      <th>0</th>\n",
              "    </tr>\n",
              "  </thead>\n",
              "  <tbody>\n",
              "    <tr>\n",
              "      <th>no</th>\n",
              "      <td>0</td>\n",
              "    </tr>\n",
              "    <tr>\n",
              "      <th>nama</th>\n",
              "      <td>0</td>\n",
              "    </tr>\n",
              "    <tr>\n",
              "      <th>vote_average</th>\n",
              "      <td>0</td>\n",
              "    </tr>\n",
              "    <tr>\n",
              "      <th>vote_count</th>\n",
              "      <td>0</td>\n",
              "    </tr>\n",
              "    <tr>\n",
              "      <th>type</th>\n",
              "      <td>0</td>\n",
              "    </tr>\n",
              "    <tr>\n",
              "      <th>htm_weekday</th>\n",
              "      <td>342</td>\n",
              "    </tr>\n",
              "    <tr>\n",
              "      <th>htm_weekend</th>\n",
              "      <td>348</td>\n",
              "    </tr>\n",
              "    <tr>\n",
              "      <th>latitude</th>\n",
              "      <td>3</td>\n",
              "    </tr>\n",
              "    <tr>\n",
              "      <th>longitude</th>\n",
              "      <td>3</td>\n",
              "    </tr>\n",
              "    <tr>\n",
              "      <th>description</th>\n",
              "      <td>332</td>\n",
              "    </tr>\n",
              "  </tbody>\n",
              "</table>\n",
              "</div><br><label><b>dtype:</b> int64</label>"
            ]
          },
          "metadata": {},
          "execution_count": 4
        }
      ]
    },
    {
      "cell_type": "code",
      "source": [
        "df = df.dropna()"
      ],
      "metadata": {
        "id": "7DnFYGiikbG9"
      },
      "execution_count": null,
      "outputs": []
    },
    {
      "cell_type": "code",
      "source": [
        "df.isnull().sum()"
      ],
      "metadata": {
        "colab": {
          "base_uri": "https://localhost:8080/",
          "height": 397
        },
        "id": "fjApy83ukdvQ",
        "outputId": "e324127b-53b5-4eca-ed97-1b523d42d387"
      },
      "execution_count": null,
      "outputs": [
        {
          "output_type": "execute_result",
          "data": {
            "text/plain": [
              "no              0\n",
              "nama            0\n",
              "vote_average    0\n",
              "vote_count      0\n",
              "type            0\n",
              "htm_weekday     0\n",
              "htm_weekend     0\n",
              "latitude        0\n",
              "longitude       0\n",
              "description     0\n",
              "dtype: int64"
            ],
            "text/html": [
              "<div>\n",
              "<style scoped>\n",
              "    .dataframe tbody tr th:only-of-type {\n",
              "        vertical-align: middle;\n",
              "    }\n",
              "\n",
              "    .dataframe tbody tr th {\n",
              "        vertical-align: top;\n",
              "    }\n",
              "\n",
              "    .dataframe thead th {\n",
              "        text-align: right;\n",
              "    }\n",
              "</style>\n",
              "<table border=\"1\" class=\"dataframe\">\n",
              "  <thead>\n",
              "    <tr style=\"text-align: right;\">\n",
              "      <th></th>\n",
              "      <th>0</th>\n",
              "    </tr>\n",
              "  </thead>\n",
              "  <tbody>\n",
              "    <tr>\n",
              "      <th>no</th>\n",
              "      <td>0</td>\n",
              "    </tr>\n",
              "    <tr>\n",
              "      <th>nama</th>\n",
              "      <td>0</td>\n",
              "    </tr>\n",
              "    <tr>\n",
              "      <th>vote_average</th>\n",
              "      <td>0</td>\n",
              "    </tr>\n",
              "    <tr>\n",
              "      <th>vote_count</th>\n",
              "      <td>0</td>\n",
              "    </tr>\n",
              "    <tr>\n",
              "      <th>type</th>\n",
              "      <td>0</td>\n",
              "    </tr>\n",
              "    <tr>\n",
              "      <th>htm_weekday</th>\n",
              "      <td>0</td>\n",
              "    </tr>\n",
              "    <tr>\n",
              "      <th>htm_weekend</th>\n",
              "      <td>0</td>\n",
              "    </tr>\n",
              "    <tr>\n",
              "      <th>latitude</th>\n",
              "      <td>0</td>\n",
              "    </tr>\n",
              "    <tr>\n",
              "      <th>longitude</th>\n",
              "      <td>0</td>\n",
              "    </tr>\n",
              "    <tr>\n",
              "      <th>description</th>\n",
              "      <td>0</td>\n",
              "    </tr>\n",
              "  </tbody>\n",
              "</table>\n",
              "</div><br><label><b>dtype:</b> int64</label>"
            ]
          },
          "metadata": {},
          "execution_count": 6
        }
      ]
    },
    {
      "cell_type": "code",
      "source": [
        "df.duplicated()"
      ],
      "metadata": {
        "colab": {
          "base_uri": "https://localhost:8080/",
          "height": 458
        },
        "id": "7pqkYHwpkh0m",
        "outputId": "73001315-c9b4-4ba4-bb99-18466f4b43ff"
      },
      "execution_count": null,
      "outputs": [
        {
          "output_type": "execute_result",
          "data": {
            "text/plain": [
              "0      False\n",
              "1      False\n",
              "2      False\n",
              "3      False\n",
              "4      False\n",
              "       ...  \n",
              "163    False\n",
              "324    False\n",
              "341    False\n",
              "382    False\n",
              "475    False\n",
              "Length: 126, dtype: bool"
            ],
            "text/html": [
              "<div>\n",
              "<style scoped>\n",
              "    .dataframe tbody tr th:only-of-type {\n",
              "        vertical-align: middle;\n",
              "    }\n",
              "\n",
              "    .dataframe tbody tr th {\n",
              "        vertical-align: top;\n",
              "    }\n",
              "\n",
              "    .dataframe thead th {\n",
              "        text-align: right;\n",
              "    }\n",
              "</style>\n",
              "<table border=\"1\" class=\"dataframe\">\n",
              "  <thead>\n",
              "    <tr style=\"text-align: right;\">\n",
              "      <th></th>\n",
              "      <th>0</th>\n",
              "    </tr>\n",
              "  </thead>\n",
              "  <tbody>\n",
              "    <tr>\n",
              "      <th>0</th>\n",
              "      <td>False</td>\n",
              "    </tr>\n",
              "    <tr>\n",
              "      <th>1</th>\n",
              "      <td>False</td>\n",
              "    </tr>\n",
              "    <tr>\n",
              "      <th>2</th>\n",
              "      <td>False</td>\n",
              "    </tr>\n",
              "    <tr>\n",
              "      <th>3</th>\n",
              "      <td>False</td>\n",
              "    </tr>\n",
              "    <tr>\n",
              "      <th>4</th>\n",
              "      <td>False</td>\n",
              "    </tr>\n",
              "    <tr>\n",
              "      <th>...</th>\n",
              "      <td>...</td>\n",
              "    </tr>\n",
              "    <tr>\n",
              "      <th>163</th>\n",
              "      <td>False</td>\n",
              "    </tr>\n",
              "    <tr>\n",
              "      <th>324</th>\n",
              "      <td>False</td>\n",
              "    </tr>\n",
              "    <tr>\n",
              "      <th>341</th>\n",
              "      <td>False</td>\n",
              "    </tr>\n",
              "    <tr>\n",
              "      <th>382</th>\n",
              "      <td>False</td>\n",
              "    </tr>\n",
              "    <tr>\n",
              "      <th>475</th>\n",
              "      <td>False</td>\n",
              "    </tr>\n",
              "  </tbody>\n",
              "</table>\n",
              "<p>126 rows × 1 columns</p>\n",
              "</div><br><label><b>dtype:</b> bool</label>"
            ]
          },
          "metadata": {},
          "execution_count": 7
        }
      ]
    },
    {
      "cell_type": "code",
      "source": [
        "from urllib.parse import quote"
      ],
      "metadata": {
        "id": "PIGTxQ0lnig-"
      },
      "execution_count": null,
      "outputs": []
    },
    {
      "cell_type": "code",
      "source": [
        "df['aff_link'] = df['nama'].apply(\n",
        "    lambda x: f\"https://www.tiket.com/to-do/search?title={quote(x)}\"\n",
        ")"
      ],
      "metadata": {
        "id": "tr6EsuSPkpHM"
      },
      "execution_count": null,
      "outputs": []
    },
    {
      "cell_type": "code",
      "source": [
        "print(df['nama'])"
      ],
      "metadata": {
        "colab": {
          "base_uri": "https://localhost:8080/"
        },
        "id": "Nd85knVHmtaf",
        "outputId": "9c576fd0-8910-4677-a19b-28c329307bc7"
      },
      "execution_count": null,
      "outputs": [
        {
          "output_type": "stream",
          "name": "stdout",
          "text": [
            "0                                    Candi Borobudur\n",
            "1                                    Candi Prambanan\n",
            "2                                      Tebing Breksi\n",
            "3                                   Gembira Loka Zoo\n",
            "4      The Palace of Yogyakarta (Keraton Yogyakarta)\n",
            "                           ...                      \n",
            "163                                   Bukit Pengilon\n",
            "324                         Ijo Temple Wooden Mosque\n",
            "341                  Museum Batik Keraton Yogyakarta\n",
            "382                                 Candi ASU Klaten\n",
            "475                     Wisata Air Wanatirta Kencana\n",
            "Name: nama, Length: 126, dtype: object\n"
          ]
        }
      ]
    },
    {
      "cell_type": "code",
      "source": [
        "print(df['aff_link'].iloc[0])"
      ],
      "metadata": {
        "colab": {
          "base_uri": "https://localhost:8080/"
        },
        "id": "CAtsZyNYl5BJ",
        "outputId": "c13bc573-84cf-4ec9-9d2d-f8a3dc09b83b"
      },
      "execution_count": null,
      "outputs": [
        {
          "output_type": "stream",
          "name": "stdout",
          "text": [
            "https://www.tiket.com/to-do/search?title=Candi%20Borobudur\n"
          ]
        }
      ]
    },
    {
      "cell_type": "code",
      "source": [
        "!pip install googletrans==4.0.0-rc1"
      ],
      "metadata": {
        "colab": {
          "base_uri": "https://localhost:8080/"
        },
        "id": "Rx982bdpoEw-",
        "outputId": "2d1764b9-3275-4807-e0d7-6cc8cae8f7a1"
      },
      "execution_count": null,
      "outputs": [
        {
          "output_type": "stream",
          "name": "stdout",
          "text": [
            "Collecting googletrans==4.0.0-rc1\n",
            "  Downloading googletrans-4.0.0rc1.tar.gz (20 kB)\n",
            "  Preparing metadata (setup.py) ... \u001b[?25l\u001b[?25hdone\n",
            "Collecting httpx==0.13.3 (from googletrans==4.0.0-rc1)\n",
            "  Downloading httpx-0.13.3-py3-none-any.whl.metadata (25 kB)\n",
            "Requirement already satisfied: certifi in /usr/local/lib/python3.10/dist-packages (from httpx==0.13.3->googletrans==4.0.0-rc1) (2024.8.30)\n",
            "Collecting hstspreload (from httpx==0.13.3->googletrans==4.0.0-rc1)\n",
            "  Downloading hstspreload-2024.12.1-py3-none-any.whl.metadata (2.1 kB)\n",
            "Requirement already satisfied: sniffio in /usr/local/lib/python3.10/dist-packages (from httpx==0.13.3->googletrans==4.0.0-rc1) (1.3.1)\n",
            "Collecting chardet==3.* (from httpx==0.13.3->googletrans==4.0.0-rc1)\n",
            "  Downloading chardet-3.0.4-py2.py3-none-any.whl.metadata (3.2 kB)\n",
            "Collecting idna==2.* (from httpx==0.13.3->googletrans==4.0.0-rc1)\n",
            "  Downloading idna-2.10-py2.py3-none-any.whl.metadata (9.1 kB)\n",
            "Collecting rfc3986<2,>=1.3 (from httpx==0.13.3->googletrans==4.0.0-rc1)\n",
            "  Downloading rfc3986-1.5.0-py2.py3-none-any.whl.metadata (6.5 kB)\n",
            "Collecting httpcore==0.9.* (from httpx==0.13.3->googletrans==4.0.0-rc1)\n",
            "  Downloading httpcore-0.9.1-py3-none-any.whl.metadata (4.6 kB)\n",
            "Collecting h11<0.10,>=0.8 (from httpcore==0.9.*->httpx==0.13.3->googletrans==4.0.0-rc1)\n",
            "  Downloading h11-0.9.0-py2.py3-none-any.whl.metadata (8.1 kB)\n",
            "Collecting h2==3.* (from httpcore==0.9.*->httpx==0.13.3->googletrans==4.0.0-rc1)\n",
            "  Downloading h2-3.2.0-py2.py3-none-any.whl.metadata (32 kB)\n",
            "Collecting hyperframe<6,>=5.2.0 (from h2==3.*->httpcore==0.9.*->httpx==0.13.3->googletrans==4.0.0-rc1)\n",
            "  Downloading hyperframe-5.2.0-py2.py3-none-any.whl.metadata (7.2 kB)\n",
            "Collecting hpack<4,>=3.0 (from h2==3.*->httpcore==0.9.*->httpx==0.13.3->googletrans==4.0.0-rc1)\n",
            "  Downloading hpack-3.0.0-py2.py3-none-any.whl.metadata (7.0 kB)\n",
            "Downloading httpx-0.13.3-py3-none-any.whl (55 kB)\n",
            "\u001b[2K   \u001b[90m━━━━━━━━━━━━━━━━━━━━━━━━━━━━━━━━━━━━━━━━\u001b[0m \u001b[32m55.1/55.1 kB\u001b[0m \u001b[31m3.8 MB/s\u001b[0m eta \u001b[36m0:00:00\u001b[0m\n",
            "\u001b[?25hDownloading chardet-3.0.4-py2.py3-none-any.whl (133 kB)\n",
            "\u001b[2K   \u001b[90m━━━━━━━━━━━━━━━━━━━━━━━━━━━━━━━━━━━━━━━━\u001b[0m \u001b[32m133.4/133.4 kB\u001b[0m \u001b[31m9.7 MB/s\u001b[0m eta \u001b[36m0:00:00\u001b[0m\n",
            "\u001b[?25hDownloading httpcore-0.9.1-py3-none-any.whl (42 kB)\n",
            "\u001b[2K   \u001b[90m━━━━━━━━━━━━━━━━━━━━━━━━━━━━━━━━━━━━━━━━\u001b[0m \u001b[32m42.6/42.6 kB\u001b[0m \u001b[31m2.8 MB/s\u001b[0m eta \u001b[36m0:00:00\u001b[0m\n",
            "\u001b[?25hDownloading idna-2.10-py2.py3-none-any.whl (58 kB)\n",
            "\u001b[2K   \u001b[90m━━━━━━━━━━━━━━━━━━━━━━━━━━━━━━━━━━━━━━━━\u001b[0m \u001b[32m58.8/58.8 kB\u001b[0m \u001b[31m4.0 MB/s\u001b[0m eta \u001b[36m0:00:00\u001b[0m\n",
            "\u001b[?25hDownloading h2-3.2.0-py2.py3-none-any.whl (65 kB)\n",
            "\u001b[2K   \u001b[90m━━━━━━━━━━━━━━━━━━━━━━━━━━━━━━━━━━━━━━━━\u001b[0m \u001b[32m65.0/65.0 kB\u001b[0m \u001b[31m4.6 MB/s\u001b[0m eta \u001b[36m0:00:00\u001b[0m\n",
            "\u001b[?25hDownloading rfc3986-1.5.0-py2.py3-none-any.whl (31 kB)\n",
            "Downloading hstspreload-2024.12.1-py3-none-any.whl (1.3 MB)\n",
            "\u001b[2K   \u001b[90m━━━━━━━━━━━━━━━━━━━━━━━━━━━━━━━━━━━━━━━━\u001b[0m \u001b[32m1.3/1.3 MB\u001b[0m \u001b[31m42.9 MB/s\u001b[0m eta \u001b[36m0:00:00\u001b[0m\n",
            "\u001b[?25hDownloading h11-0.9.0-py2.py3-none-any.whl (53 kB)\n",
            "\u001b[2K   \u001b[90m━━━━━━━━━━━━━━━━━━━━━━━━━━━━━━━━━━━━━━━━\u001b[0m \u001b[32m53.6/53.6 kB\u001b[0m \u001b[31m3.3 MB/s\u001b[0m eta \u001b[36m0:00:00\u001b[0m\n",
            "\u001b[?25hDownloading hpack-3.0.0-py2.py3-none-any.whl (38 kB)\n",
            "Downloading hyperframe-5.2.0-py2.py3-none-any.whl (12 kB)\n",
            "Building wheels for collected packages: googletrans\n",
            "  Building wheel for googletrans (setup.py) ... \u001b[?25l\u001b[?25hdone\n",
            "  Created wheel for googletrans: filename=googletrans-4.0.0rc1-py3-none-any.whl size=17397 sha256=afa8ee70d5e385b52176018c416b0885bd835690a3ab63b93c1e1ecb8a9879c0\n",
            "  Stored in directory: /root/.cache/pip/wheels/c0/59/9f/7372f0cf70160fe61b528532e1a7c8498c4becd6bcffb022de\n",
            "Successfully built googletrans\n",
            "Installing collected packages: rfc3986, hyperframe, hpack, h11, chardet, idna, hstspreload, h2, httpcore, httpx, googletrans\n",
            "  Attempting uninstall: h11\n",
            "    Found existing installation: h11 0.14.0\n",
            "    Uninstalling h11-0.14.0:\n",
            "      Successfully uninstalled h11-0.14.0\n",
            "  Attempting uninstall: chardet\n",
            "    Found existing installation: chardet 5.2.0\n",
            "    Uninstalling chardet-5.2.0:\n",
            "      Successfully uninstalled chardet-5.2.0\n",
            "  Attempting uninstall: idna\n",
            "    Found existing installation: idna 3.10\n",
            "    Uninstalling idna-3.10:\n",
            "      Successfully uninstalled idna-3.10\n",
            "  Attempting uninstall: httpcore\n",
            "    Found existing installation: httpcore 1.0.7\n",
            "    Uninstalling httpcore-1.0.7:\n",
            "      Successfully uninstalled httpcore-1.0.7\n",
            "  Attempting uninstall: httpx\n",
            "    Found existing installation: httpx 0.27.2\n",
            "    Uninstalling httpx-0.27.2:\n",
            "      Successfully uninstalled httpx-0.27.2\n",
            "\u001b[31mERROR: pip's dependency resolver does not currently take into account all the packages that are installed. This behaviour is the source of the following dependency conflicts.\n",
            "langsmith 0.1.143 requires httpx<1,>=0.23.0, but you have httpx 0.13.3 which is incompatible.\n",
            "openai 1.54.4 requires httpx<1,>=0.23.0, but you have httpx 0.13.3 which is incompatible.\u001b[0m\u001b[31m\n",
            "\u001b[0mSuccessfully installed chardet-3.0.4 googletrans-4.0.0rc1 h11-0.9.0 h2-3.2.0 hpack-3.0.0 hstspreload-2024.12.1 httpcore-0.9.1 httpx-0.13.3 hyperframe-5.2.0 idna-2.10 rfc3986-1.5.0\n"
          ]
        }
      ]
    },
    {
      "cell_type": "code",
      "source": [
        "from googletrans import Translator"
      ],
      "metadata": {
        "id": "HHAlzy6LobFg"
      },
      "execution_count": null,
      "outputs": []
    },
    {
      "cell_type": "code",
      "source": [
        "translator = Translator()"
      ],
      "metadata": {
        "id": "joUWxX5aoemL"
      },
      "execution_count": null,
      "outputs": []
    },
    {
      "cell_type": "code",
      "source": [
        "df['trans_desc'] = df['description'].apply(lambda x: translator.translate(x, src='id', dest='en').text)"
      ],
      "metadata": {
        "id": "sSLDrtwzohRe"
      },
      "execution_count": null,
      "outputs": []
    },
    {
      "cell_type": "code",
      "source": [
        "print(df['trans_desc'])"
      ],
      "metadata": {
        "colab": {
          "base_uri": "https://localhost:8080/"
        },
        "id": "X2IyAoQPpDBJ",
        "outputId": "0d68e8e5-6698-45ae-bf43-253354551ca9"
      },
      "execution_count": null,
      "outputs": [
        {
          "output_type": "stream",
          "name": "stdout",
          "text": [
            "0      The temple, which had entered as one of the se...\n",
            "1      Prambanan Temple is the largest Hindu temple c...\n",
            "2      Tebing Breksi is a tourist spot in the Sleman ...\n",
            "3      Gambira Loka is a zoo in Yogyakarta.Contains a...\n",
            "4      The palace complex is a museum that stores var...\n",
            "                             ...                        \n",
            "163    The name of the Bukit Pengilon comes from Java...\n",
            "324    Pasoedjoedan Al Liwung or known as the Temple ...\n",
            "341    At the Yogyakarta Palace Batik Museum, tourist...\n",
            "382    It is located on DK.Really Ds.Bugisan Kec.Pram...\n",
            "475    Wahana playing water in the Tirta Kencana Air ...\n",
            "Name: trans_desc, Length: 126, dtype: object\n"
          ]
        }
      ]
    },
    {
      "cell_type": "code",
      "source": [
        "error_rows = df[df['trans_desc'].str.contains('error', case=False, na=False)]\n",
        "print(error_rows)"
      ],
      "metadata": {
        "colab": {
          "base_uri": "https://localhost:8080/"
        },
        "id": "dbNjlD7OpYgA",
        "outputId": "c0a0e4df-07e5-409b-a59d-4fc2229a3f21"
      },
      "execution_count": null,
      "outputs": [
        {
          "output_type": "stream",
          "name": "stdout",
          "text": [
            "Empty DataFrame\n",
            "Columns: [no, nama, vote_average, vote_count, type, htm_weekday, htm_weekend, latitude, longitude, description, aff_link, trans_desc]\n",
            "Index: []\n"
          ]
        }
      ]
    },
    {
      "cell_type": "code",
      "source": [
        "df['types'] = df['type'].apply(lambda x: translator.translate(x, src='id', dest='en').text)"
      ],
      "metadata": {
        "id": "mAppRr6mpuX8"
      },
      "execution_count": null,
      "outputs": []
    },
    {
      "cell_type": "code",
      "source": [
        "error = df[df['types'].str.contains('error', case=False, na=False)]\n",
        "print(error)"
      ],
      "metadata": {
        "colab": {
          "base_uri": "https://localhost:8080/"
        },
        "id": "WzvTIWYzp11V",
        "outputId": "d02b6863-e0c4-4477-d2f0-e2e5adf050ea"
      },
      "execution_count": null,
      "outputs": [
        {
          "output_type": "stream",
          "name": "stdout",
          "text": [
            "Empty DataFrame\n",
            "Columns: [no, nama, vote_average, vote_count, type, htm_weekday, htm_weekend, latitude, longitude, description, aff_link, trans_desc, types]\n",
            "Index: []\n"
          ]
        }
      ]
    },
    {
      "cell_type": "code",
      "source": [
        "print(df['types'])"
      ],
      "metadata": {
        "colab": {
          "base_uri": "https://localhost:8080/"
        },
        "id": "pcViWj3up8b7",
        "outputId": "22efca7a-55d4-4b6a-8624-cdc70e298050"
      },
      "execution_count": null,
      "outputs": [
        {
          "output_type": "stream",
          "name": "stdout",
          "text": [
            "0      Culture and history\n",
            "1      Culture and history\n",
            "2                  Natural\n",
            "3                    Fauna\n",
            "4      Culture and history\n",
            "              ...         \n",
            "163                Natural\n",
            "324                  Beach\n",
            "341        Natural tourism\n",
            "382        Natural tourism\n",
            "475          Water Tourism\n",
            "Name: types, Length: 126, dtype: object\n"
          ]
        }
      ]
    },
    {
      "cell_type": "code",
      "source": [
        "df['combined'] = df['types'] + ' ' + df['trans_desc']"
      ],
      "metadata": {
        "id": "o5XdGd1_qJjb"
      },
      "execution_count": null,
      "outputs": []
    },
    {
      "cell_type": "code",
      "source": [
        "df"
      ],
      "metadata": {
        "colab": {
          "base_uri": "https://localhost:8080/",
          "height": 1000
        },
        "id": "u95UK9BxtSt-",
        "outputId": "b9c9798c-b8d7-4059-d299-b0c227edb6d6"
      },
      "execution_count": null,
      "outputs": [
        {
          "output_type": "execute_result",
          "data": {
            "text/plain": [
              "      no                                           nama  vote_average  \\\n",
              "0      9                                Candi Borobudur           4.7   \n",
              "1     10                                Candi Prambanan           4.7   \n",
              "2     24                                  Tebing Breksi           4.4   \n",
              "3    343                               Gembira Loka Zoo           4.5   \n",
              "4    346  The Palace of Yogyakarta (Keraton Yogyakarta)           4.6   \n",
              "..   ...                                            ...           ...   \n",
              "163    7                                 Bukit Pengilon           4.6   \n",
              "324  262                       Ijo Temple Wooden Mosque           4.4   \n",
              "341   75                Museum Batik Keraton Yogyakarta           4.9   \n",
              "382  250                               Candi ASU Klaten           4.2   \n",
              "475  443                   Wisata Air Wanatirta Kencana           5.0   \n",
              "\n",
              "     vote_count                type  htm_weekday  htm_weekend  latitude  \\\n",
              "0         81922  Budaya dan Sejarah      50000.0      50000.0 -7.607087   \n",
              "1         71751  Budaya dan Sejarah      50000.0      50000.0 -7.751835   \n",
              "2         51431                Alam      10000.0      10000.0 -7.781477   \n",
              "3         36337               Fauna      20000.0      25000.0 -7.806234   \n",
              "4         30091  Budaya dan Sejarah       8000.0       8000.0 -7.805284   \n",
              "..          ...                 ...          ...          ...       ...   \n",
              "163         439                Alam       5000.0       5000.0 -8.185459   \n",
              "324          33              Pantai          0.0          0.0 -7.784753   \n",
              "341          20         Wisata Alam      20000.0      20000.0 -7.807514   \n",
              "382           5         Wisata Alam       3000.0       3000.0 -7.742302   \n",
              "475           1          Wisata Air      10000.0      15000.0 -7.891443   \n",
              "\n",
              "      longitude                                        description  \\\n",
              "0    110.203623  Candi yang pernah masuk sebagai salah satu dar...   \n",
              "1    110.491532  Candi Prambanan adalah kompleks candi Hindu te...   \n",
              "2    110.504576  Tebing Breksi merupakan tempat wisata yang ber...   \n",
              "3    110.396798  Gambira Loka adalah kebun binatang yang berada...   \n",
              "4    110.364203  Kompleks keraton merupakan museum yang menyimp...   \n",
              "..          ...                                                ...   \n",
              "163  110.691722  Nama bukit Pengilon berasal dari bahasa Jawa y...   \n",
              "324  110.512844  Pasoedjoedan Al Liwung atau yang dikenal denga...   \n",
              "341  110.364589  Di Museum Batik Keraton Yogyakarta, wisatawan ...   \n",
              "382  110.515587  Letaknya di Dk. Bener Ds. Bugisan Kec. Pramban...   \n",
              "475  110.548354  Wahana bermain air di Taman Wisata Air Tirta K...   \n",
              "\n",
              "                                              aff_link  \\\n",
              "0    https://www.tiket.com/to-do/search?title=Candi...   \n",
              "1    https://www.tiket.com/to-do/search?title=Candi...   \n",
              "2    https://www.tiket.com/to-do/search?title=Tebin...   \n",
              "3    https://www.tiket.com/to-do/search?title=Gembi...   \n",
              "4    https://www.tiket.com/to-do/search?title=The%2...   \n",
              "..                                                 ...   \n",
              "163  https://www.tiket.com/to-do/search?title=Bukit...   \n",
              "324  https://www.tiket.com/to-do/search?title=Ijo%2...   \n",
              "341  https://www.tiket.com/to-do/search?title=Museu...   \n",
              "382  https://www.tiket.com/to-do/search?title=Candi...   \n",
              "475  https://www.tiket.com/to-do/search?title=Wisat...   \n",
              "\n",
              "                                            trans_desc                types  \\\n",
              "0    The temple, which had entered as one of the se...  Culture and history   \n",
              "1    Prambanan Temple is the largest Hindu temple c...  Culture and history   \n",
              "2    Tebing Breksi is a tourist spot in the Sleman ...              Natural   \n",
              "3    Gambira Loka is a zoo in Yogyakarta.Contains a...                Fauna   \n",
              "4    The palace complex is a museum that stores var...  Culture and history   \n",
              "..                                                 ...                  ...   \n",
              "163  The name of the Bukit Pengilon comes from Java...              Natural   \n",
              "324  Pasoedjoedan Al Liwung or known as the Temple ...                Beach   \n",
              "341  At the Yogyakarta Palace Batik Museum, tourist...      Natural tourism   \n",
              "382  It is located on DK.Really Ds.Bugisan Kec.Pram...      Natural tourism   \n",
              "475  Wahana playing water in the Tirta Kencana Air ...        Water Tourism   \n",
              "\n",
              "                                              combined  \n",
              "0    Culture and history The temple, which had ente...  \n",
              "1    Culture and history Prambanan Temple is the la...  \n",
              "2    Natural Tebing Breksi is a tourist spot in the...  \n",
              "3    Fauna Gambira Loka is a zoo in Yogyakarta.Cont...  \n",
              "4    Culture and history The palace complex is a mu...  \n",
              "..                                                 ...  \n",
              "163  Natural The name of the Bukit Pengilon comes f...  \n",
              "324  Beach Pasoedjoedan Al Liwung or known as the T...  \n",
              "341  Natural tourism At the Yogyakarta Palace Batik...  \n",
              "382  Natural tourism It is located on DK.Really Ds....  \n",
              "475  Water Tourism Wahana playing water in the Tirt...  \n",
              "\n",
              "[126 rows x 14 columns]"
            ],
            "text/html": [
              "\n",
              "  <div id=\"df-891ee030-512c-45e2-aba0-1448f7e473e7\" class=\"colab-df-container\">\n",
              "    <div>\n",
              "<style scoped>\n",
              "    .dataframe tbody tr th:only-of-type {\n",
              "        vertical-align: middle;\n",
              "    }\n",
              "\n",
              "    .dataframe tbody tr th {\n",
              "        vertical-align: top;\n",
              "    }\n",
              "\n",
              "    .dataframe thead th {\n",
              "        text-align: right;\n",
              "    }\n",
              "</style>\n",
              "<table border=\"1\" class=\"dataframe\">\n",
              "  <thead>\n",
              "    <tr style=\"text-align: right;\">\n",
              "      <th></th>\n",
              "      <th>no</th>\n",
              "      <th>nama</th>\n",
              "      <th>vote_average</th>\n",
              "      <th>vote_count</th>\n",
              "      <th>type</th>\n",
              "      <th>htm_weekday</th>\n",
              "      <th>htm_weekend</th>\n",
              "      <th>latitude</th>\n",
              "      <th>longitude</th>\n",
              "      <th>description</th>\n",
              "      <th>aff_link</th>\n",
              "      <th>trans_desc</th>\n",
              "      <th>types</th>\n",
              "      <th>combined</th>\n",
              "    </tr>\n",
              "  </thead>\n",
              "  <tbody>\n",
              "    <tr>\n",
              "      <th>0</th>\n",
              "      <td>9</td>\n",
              "      <td>Candi Borobudur</td>\n",
              "      <td>4.7</td>\n",
              "      <td>81922</td>\n",
              "      <td>Budaya dan Sejarah</td>\n",
              "      <td>50000.0</td>\n",
              "      <td>50000.0</td>\n",
              "      <td>-7.607087</td>\n",
              "      <td>110.203623</td>\n",
              "      <td>Candi yang pernah masuk sebagai salah satu dar...</td>\n",
              "      <td>https://www.tiket.com/to-do/search?title=Candi...</td>\n",
              "      <td>The temple, which had entered as one of the se...</td>\n",
              "      <td>Culture and history</td>\n",
              "      <td>Culture and history The temple, which had ente...</td>\n",
              "    </tr>\n",
              "    <tr>\n",
              "      <th>1</th>\n",
              "      <td>10</td>\n",
              "      <td>Candi Prambanan</td>\n",
              "      <td>4.7</td>\n",
              "      <td>71751</td>\n",
              "      <td>Budaya dan Sejarah</td>\n",
              "      <td>50000.0</td>\n",
              "      <td>50000.0</td>\n",
              "      <td>-7.751835</td>\n",
              "      <td>110.491532</td>\n",
              "      <td>Candi Prambanan adalah kompleks candi Hindu te...</td>\n",
              "      <td>https://www.tiket.com/to-do/search?title=Candi...</td>\n",
              "      <td>Prambanan Temple is the largest Hindu temple c...</td>\n",
              "      <td>Culture and history</td>\n",
              "      <td>Culture and history Prambanan Temple is the la...</td>\n",
              "    </tr>\n",
              "    <tr>\n",
              "      <th>2</th>\n",
              "      <td>24</td>\n",
              "      <td>Tebing Breksi</td>\n",
              "      <td>4.4</td>\n",
              "      <td>51431</td>\n",
              "      <td>Alam</td>\n",
              "      <td>10000.0</td>\n",
              "      <td>10000.0</td>\n",
              "      <td>-7.781477</td>\n",
              "      <td>110.504576</td>\n",
              "      <td>Tebing Breksi merupakan tempat wisata yang ber...</td>\n",
              "      <td>https://www.tiket.com/to-do/search?title=Tebin...</td>\n",
              "      <td>Tebing Breksi is a tourist spot in the Sleman ...</td>\n",
              "      <td>Natural</td>\n",
              "      <td>Natural Tebing Breksi is a tourist spot in the...</td>\n",
              "    </tr>\n",
              "    <tr>\n",
              "      <th>3</th>\n",
              "      <td>343</td>\n",
              "      <td>Gembira Loka Zoo</td>\n",
              "      <td>4.5</td>\n",
              "      <td>36337</td>\n",
              "      <td>Fauna</td>\n",
              "      <td>20000.0</td>\n",
              "      <td>25000.0</td>\n",
              "      <td>-7.806234</td>\n",
              "      <td>110.396798</td>\n",
              "      <td>Gambira Loka adalah kebun binatang yang berada...</td>\n",
              "      <td>https://www.tiket.com/to-do/search?title=Gembi...</td>\n",
              "      <td>Gambira Loka is a zoo in Yogyakarta.Contains a...</td>\n",
              "      <td>Fauna</td>\n",
              "      <td>Fauna Gambira Loka is a zoo in Yogyakarta.Cont...</td>\n",
              "    </tr>\n",
              "    <tr>\n",
              "      <th>4</th>\n",
              "      <td>346</td>\n",
              "      <td>The Palace of Yogyakarta (Keraton Yogyakarta)</td>\n",
              "      <td>4.6</td>\n",
              "      <td>30091</td>\n",
              "      <td>Budaya dan Sejarah</td>\n",
              "      <td>8000.0</td>\n",
              "      <td>8000.0</td>\n",
              "      <td>-7.805284</td>\n",
              "      <td>110.364203</td>\n",
              "      <td>Kompleks keraton merupakan museum yang menyimp...</td>\n",
              "      <td>https://www.tiket.com/to-do/search?title=The%2...</td>\n",
              "      <td>The palace complex is a museum that stores var...</td>\n",
              "      <td>Culture and history</td>\n",
              "      <td>Culture and history The palace complex is a mu...</td>\n",
              "    </tr>\n",
              "    <tr>\n",
              "      <th>...</th>\n",
              "      <td>...</td>\n",
              "      <td>...</td>\n",
              "      <td>...</td>\n",
              "      <td>...</td>\n",
              "      <td>...</td>\n",
              "      <td>...</td>\n",
              "      <td>...</td>\n",
              "      <td>...</td>\n",
              "      <td>...</td>\n",
              "      <td>...</td>\n",
              "      <td>...</td>\n",
              "      <td>...</td>\n",
              "      <td>...</td>\n",
              "      <td>...</td>\n",
              "    </tr>\n",
              "    <tr>\n",
              "      <th>163</th>\n",
              "      <td>7</td>\n",
              "      <td>Bukit Pengilon</td>\n",
              "      <td>4.6</td>\n",
              "      <td>439</td>\n",
              "      <td>Alam</td>\n",
              "      <td>5000.0</td>\n",
              "      <td>5000.0</td>\n",
              "      <td>-8.185459</td>\n",
              "      <td>110.691722</td>\n",
              "      <td>Nama bukit Pengilon berasal dari bahasa Jawa y...</td>\n",
              "      <td>https://www.tiket.com/to-do/search?title=Bukit...</td>\n",
              "      <td>The name of the Bukit Pengilon comes from Java...</td>\n",
              "      <td>Natural</td>\n",
              "      <td>Natural The name of the Bukit Pengilon comes f...</td>\n",
              "    </tr>\n",
              "    <tr>\n",
              "      <th>324</th>\n",
              "      <td>262</td>\n",
              "      <td>Ijo Temple Wooden Mosque</td>\n",
              "      <td>4.4</td>\n",
              "      <td>33</td>\n",
              "      <td>Pantai</td>\n",
              "      <td>0.0</td>\n",
              "      <td>0.0</td>\n",
              "      <td>-7.784753</td>\n",
              "      <td>110.512844</td>\n",
              "      <td>Pasoedjoedan Al Liwung atau yang dikenal denga...</td>\n",
              "      <td>https://www.tiket.com/to-do/search?title=Ijo%2...</td>\n",
              "      <td>Pasoedjoedan Al Liwung or known as the Temple ...</td>\n",
              "      <td>Beach</td>\n",
              "      <td>Beach Pasoedjoedan Al Liwung or known as the T...</td>\n",
              "    </tr>\n",
              "    <tr>\n",
              "      <th>341</th>\n",
              "      <td>75</td>\n",
              "      <td>Museum Batik Keraton Yogyakarta</td>\n",
              "      <td>4.9</td>\n",
              "      <td>20</td>\n",
              "      <td>Wisata Alam</td>\n",
              "      <td>20000.0</td>\n",
              "      <td>20000.0</td>\n",
              "      <td>-7.807514</td>\n",
              "      <td>110.364589</td>\n",
              "      <td>Di Museum Batik Keraton Yogyakarta, wisatawan ...</td>\n",
              "      <td>https://www.tiket.com/to-do/search?title=Museu...</td>\n",
              "      <td>At the Yogyakarta Palace Batik Museum, tourist...</td>\n",
              "      <td>Natural tourism</td>\n",
              "      <td>Natural tourism At the Yogyakarta Palace Batik...</td>\n",
              "    </tr>\n",
              "    <tr>\n",
              "      <th>382</th>\n",
              "      <td>250</td>\n",
              "      <td>Candi ASU Klaten</td>\n",
              "      <td>4.2</td>\n",
              "      <td>5</td>\n",
              "      <td>Wisata Alam</td>\n",
              "      <td>3000.0</td>\n",
              "      <td>3000.0</td>\n",
              "      <td>-7.742302</td>\n",
              "      <td>110.515587</td>\n",
              "      <td>Letaknya di Dk. Bener Ds. Bugisan Kec. Pramban...</td>\n",
              "      <td>https://www.tiket.com/to-do/search?title=Candi...</td>\n",
              "      <td>It is located on DK.Really Ds.Bugisan Kec.Pram...</td>\n",
              "      <td>Natural tourism</td>\n",
              "      <td>Natural tourism It is located on DK.Really Ds....</td>\n",
              "    </tr>\n",
              "    <tr>\n",
              "      <th>475</th>\n",
              "      <td>443</td>\n",
              "      <td>Wisata Air Wanatirta Kencana</td>\n",
              "      <td>5.0</td>\n",
              "      <td>1</td>\n",
              "      <td>Wisata Air</td>\n",
              "      <td>10000.0</td>\n",
              "      <td>15000.0</td>\n",
              "      <td>-7.891443</td>\n",
              "      <td>110.548354</td>\n",
              "      <td>Wahana bermain air di Taman Wisata Air Tirta K...</td>\n",
              "      <td>https://www.tiket.com/to-do/search?title=Wisat...</td>\n",
              "      <td>Wahana playing water in the Tirta Kencana Air ...</td>\n",
              "      <td>Water Tourism</td>\n",
              "      <td>Water Tourism Wahana playing water in the Tirt...</td>\n",
              "    </tr>\n",
              "  </tbody>\n",
              "</table>\n",
              "<p>126 rows × 14 columns</p>\n",
              "</div>\n",
              "    <div class=\"colab-df-buttons\">\n",
              "\n",
              "  <div class=\"colab-df-container\">\n",
              "    <button class=\"colab-df-convert\" onclick=\"convertToInteractive('df-891ee030-512c-45e2-aba0-1448f7e473e7')\"\n",
              "            title=\"Convert this dataframe to an interactive table.\"\n",
              "            style=\"display:none;\">\n",
              "\n",
              "  <svg xmlns=\"http://www.w3.org/2000/svg\" height=\"24px\" viewBox=\"0 -960 960 960\">\n",
              "    <path d=\"M120-120v-720h720v720H120Zm60-500h600v-160H180v160Zm220 220h160v-160H400v160Zm0 220h160v-160H400v160ZM180-400h160v-160H180v160Zm440 0h160v-160H620v160ZM180-180h160v-160H180v160Zm440 0h160v-160H620v160Z\"/>\n",
              "  </svg>\n",
              "    </button>\n",
              "\n",
              "  <style>\n",
              "    .colab-df-container {\n",
              "      display:flex;\n",
              "      gap: 12px;\n",
              "    }\n",
              "\n",
              "    .colab-df-convert {\n",
              "      background-color: #E8F0FE;\n",
              "      border: none;\n",
              "      border-radius: 50%;\n",
              "      cursor: pointer;\n",
              "      display: none;\n",
              "      fill: #1967D2;\n",
              "      height: 32px;\n",
              "      padding: 0 0 0 0;\n",
              "      width: 32px;\n",
              "    }\n",
              "\n",
              "    .colab-df-convert:hover {\n",
              "      background-color: #E2EBFA;\n",
              "      box-shadow: 0px 1px 2px rgba(60, 64, 67, 0.3), 0px 1px 3px 1px rgba(60, 64, 67, 0.15);\n",
              "      fill: #174EA6;\n",
              "    }\n",
              "\n",
              "    .colab-df-buttons div {\n",
              "      margin-bottom: 4px;\n",
              "    }\n",
              "\n",
              "    [theme=dark] .colab-df-convert {\n",
              "      background-color: #3B4455;\n",
              "      fill: #D2E3FC;\n",
              "    }\n",
              "\n",
              "    [theme=dark] .colab-df-convert:hover {\n",
              "      background-color: #434B5C;\n",
              "      box-shadow: 0px 1px 3px 1px rgba(0, 0, 0, 0.15);\n",
              "      filter: drop-shadow(0px 1px 2px rgba(0, 0, 0, 0.3));\n",
              "      fill: #FFFFFF;\n",
              "    }\n",
              "  </style>\n",
              "\n",
              "    <script>\n",
              "      const buttonEl =\n",
              "        document.querySelector('#df-891ee030-512c-45e2-aba0-1448f7e473e7 button.colab-df-convert');\n",
              "      buttonEl.style.display =\n",
              "        google.colab.kernel.accessAllowed ? 'block' : 'none';\n",
              "\n",
              "      async function convertToInteractive(key) {\n",
              "        const element = document.querySelector('#df-891ee030-512c-45e2-aba0-1448f7e473e7');\n",
              "        const dataTable =\n",
              "          await google.colab.kernel.invokeFunction('convertToInteractive',\n",
              "                                                    [key], {});\n",
              "        if (!dataTable) return;\n",
              "\n",
              "        const docLinkHtml = 'Like what you see? Visit the ' +\n",
              "          '<a target=\"_blank\" href=https://colab.research.google.com/notebooks/data_table.ipynb>data table notebook</a>'\n",
              "          + ' to learn more about interactive tables.';\n",
              "        element.innerHTML = '';\n",
              "        dataTable['output_type'] = 'display_data';\n",
              "        await google.colab.output.renderOutput(dataTable, element);\n",
              "        const docLink = document.createElement('div');\n",
              "        docLink.innerHTML = docLinkHtml;\n",
              "        element.appendChild(docLink);\n",
              "      }\n",
              "    </script>\n",
              "  </div>\n",
              "\n",
              "\n",
              "<div id=\"df-93506f65-e2a6-4ed5-a44f-90c820566196\">\n",
              "  <button class=\"colab-df-quickchart\" onclick=\"quickchart('df-93506f65-e2a6-4ed5-a44f-90c820566196')\"\n",
              "            title=\"Suggest charts\"\n",
              "            style=\"display:none;\">\n",
              "\n",
              "<svg xmlns=\"http://www.w3.org/2000/svg\" height=\"24px\"viewBox=\"0 0 24 24\"\n",
              "     width=\"24px\">\n",
              "    <g>\n",
              "        <path d=\"M19 3H5c-1.1 0-2 .9-2 2v14c0 1.1.9 2 2 2h14c1.1 0 2-.9 2-2V5c0-1.1-.9-2-2-2zM9 17H7v-7h2v7zm4 0h-2V7h2v10zm4 0h-2v-4h2v4z\"/>\n",
              "    </g>\n",
              "</svg>\n",
              "  </button>\n",
              "\n",
              "<style>\n",
              "  .colab-df-quickchart {\n",
              "      --bg-color: #E8F0FE;\n",
              "      --fill-color: #1967D2;\n",
              "      --hover-bg-color: #E2EBFA;\n",
              "      --hover-fill-color: #174EA6;\n",
              "      --disabled-fill-color: #AAA;\n",
              "      --disabled-bg-color: #DDD;\n",
              "  }\n",
              "\n",
              "  [theme=dark] .colab-df-quickchart {\n",
              "      --bg-color: #3B4455;\n",
              "      --fill-color: #D2E3FC;\n",
              "      --hover-bg-color: #434B5C;\n",
              "      --hover-fill-color: #FFFFFF;\n",
              "      --disabled-bg-color: #3B4455;\n",
              "      --disabled-fill-color: #666;\n",
              "  }\n",
              "\n",
              "  .colab-df-quickchart {\n",
              "    background-color: var(--bg-color);\n",
              "    border: none;\n",
              "    border-radius: 50%;\n",
              "    cursor: pointer;\n",
              "    display: none;\n",
              "    fill: var(--fill-color);\n",
              "    height: 32px;\n",
              "    padding: 0;\n",
              "    width: 32px;\n",
              "  }\n",
              "\n",
              "  .colab-df-quickchart:hover {\n",
              "    background-color: var(--hover-bg-color);\n",
              "    box-shadow: 0 1px 2px rgba(60, 64, 67, 0.3), 0 1px 3px 1px rgba(60, 64, 67, 0.15);\n",
              "    fill: var(--button-hover-fill-color);\n",
              "  }\n",
              "\n",
              "  .colab-df-quickchart-complete:disabled,\n",
              "  .colab-df-quickchart-complete:disabled:hover {\n",
              "    background-color: var(--disabled-bg-color);\n",
              "    fill: var(--disabled-fill-color);\n",
              "    box-shadow: none;\n",
              "  }\n",
              "\n",
              "  .colab-df-spinner {\n",
              "    border: 2px solid var(--fill-color);\n",
              "    border-color: transparent;\n",
              "    border-bottom-color: var(--fill-color);\n",
              "    animation:\n",
              "      spin 1s steps(1) infinite;\n",
              "  }\n",
              "\n",
              "  @keyframes spin {\n",
              "    0% {\n",
              "      border-color: transparent;\n",
              "      border-bottom-color: var(--fill-color);\n",
              "      border-left-color: var(--fill-color);\n",
              "    }\n",
              "    20% {\n",
              "      border-color: transparent;\n",
              "      border-left-color: var(--fill-color);\n",
              "      border-top-color: var(--fill-color);\n",
              "    }\n",
              "    30% {\n",
              "      border-color: transparent;\n",
              "      border-left-color: var(--fill-color);\n",
              "      border-top-color: var(--fill-color);\n",
              "      border-right-color: var(--fill-color);\n",
              "    }\n",
              "    40% {\n",
              "      border-color: transparent;\n",
              "      border-right-color: var(--fill-color);\n",
              "      border-top-color: var(--fill-color);\n",
              "    }\n",
              "    60% {\n",
              "      border-color: transparent;\n",
              "      border-right-color: var(--fill-color);\n",
              "    }\n",
              "    80% {\n",
              "      border-color: transparent;\n",
              "      border-right-color: var(--fill-color);\n",
              "      border-bottom-color: var(--fill-color);\n",
              "    }\n",
              "    90% {\n",
              "      border-color: transparent;\n",
              "      border-bottom-color: var(--fill-color);\n",
              "    }\n",
              "  }\n",
              "</style>\n",
              "\n",
              "  <script>\n",
              "    async function quickchart(key) {\n",
              "      const quickchartButtonEl =\n",
              "        document.querySelector('#' + key + ' button');\n",
              "      quickchartButtonEl.disabled = true;  // To prevent multiple clicks.\n",
              "      quickchartButtonEl.classList.add('colab-df-spinner');\n",
              "      try {\n",
              "        const charts = await google.colab.kernel.invokeFunction(\n",
              "            'suggestCharts', [key], {});\n",
              "      } catch (error) {\n",
              "        console.error('Error during call to suggestCharts:', error);\n",
              "      }\n",
              "      quickchartButtonEl.classList.remove('colab-df-spinner');\n",
              "      quickchartButtonEl.classList.add('colab-df-quickchart-complete');\n",
              "    }\n",
              "    (() => {\n",
              "      let quickchartButtonEl =\n",
              "        document.querySelector('#df-93506f65-e2a6-4ed5-a44f-90c820566196 button');\n",
              "      quickchartButtonEl.style.display =\n",
              "        google.colab.kernel.accessAllowed ? 'block' : 'none';\n",
              "    })();\n",
              "  </script>\n",
              "</div>\n",
              "\n",
              "  <div id=\"id_5cccd849-b81c-4c7f-a9a0-3dd53baa00c8\">\n",
              "    <style>\n",
              "      .colab-df-generate {\n",
              "        background-color: #E8F0FE;\n",
              "        border: none;\n",
              "        border-radius: 50%;\n",
              "        cursor: pointer;\n",
              "        display: none;\n",
              "        fill: #1967D2;\n",
              "        height: 32px;\n",
              "        padding: 0 0 0 0;\n",
              "        width: 32px;\n",
              "      }\n",
              "\n",
              "      .colab-df-generate:hover {\n",
              "        background-color: #E2EBFA;\n",
              "        box-shadow: 0px 1px 2px rgba(60, 64, 67, 0.3), 0px 1px 3px 1px rgba(60, 64, 67, 0.15);\n",
              "        fill: #174EA6;\n",
              "      }\n",
              "\n",
              "      [theme=dark] .colab-df-generate {\n",
              "        background-color: #3B4455;\n",
              "        fill: #D2E3FC;\n",
              "      }\n",
              "\n",
              "      [theme=dark] .colab-df-generate:hover {\n",
              "        background-color: #434B5C;\n",
              "        box-shadow: 0px 1px 3px 1px rgba(0, 0, 0, 0.15);\n",
              "        filter: drop-shadow(0px 1px 2px rgba(0, 0, 0, 0.3));\n",
              "        fill: #FFFFFF;\n",
              "      }\n",
              "    </style>\n",
              "    <button class=\"colab-df-generate\" onclick=\"generateWithVariable('df')\"\n",
              "            title=\"Generate code using this dataframe.\"\n",
              "            style=\"display:none;\">\n",
              "\n",
              "  <svg xmlns=\"http://www.w3.org/2000/svg\" height=\"24px\"viewBox=\"0 0 24 24\"\n",
              "       width=\"24px\">\n",
              "    <path d=\"M7,19H8.4L18.45,9,17,7.55,7,17.6ZM5,21V16.75L18.45,3.32a2,2,0,0,1,2.83,0l1.4,1.43a1.91,1.91,0,0,1,.58,1.4,1.91,1.91,0,0,1-.58,1.4L9.25,21ZM18.45,9,17,7.55Zm-12,3A5.31,5.31,0,0,0,4.9,8.1,5.31,5.31,0,0,0,1,6.5,5.31,5.31,0,0,0,4.9,4.9,5.31,5.31,0,0,0,6.5,1,5.31,5.31,0,0,0,8.1,4.9,5.31,5.31,0,0,0,12,6.5,5.46,5.46,0,0,0,6.5,12Z\"/>\n",
              "  </svg>\n",
              "    </button>\n",
              "    <script>\n",
              "      (() => {\n",
              "      const buttonEl =\n",
              "        document.querySelector('#id_5cccd849-b81c-4c7f-a9a0-3dd53baa00c8 button.colab-df-generate');\n",
              "      buttonEl.style.display =\n",
              "        google.colab.kernel.accessAllowed ? 'block' : 'none';\n",
              "\n",
              "      buttonEl.onclick = () => {\n",
              "        google.colab.notebook.generateWithVariable('df');\n",
              "      }\n",
              "      })();\n",
              "    </script>\n",
              "  </div>\n",
              "\n",
              "    </div>\n",
              "  </div>\n"
            ],
            "application/vnd.google.colaboratory.intrinsic+json": {
              "type": "dataframe",
              "variable_name": "df",
              "summary": "{\n  \"name\": \"df\",\n  \"rows\": 126,\n  \"fields\": [\n    {\n      \"column\": \"no\",\n      \"properties\": {\n        \"dtype\": \"number\",\n        \"std\": 161,\n        \"min\": 2,\n        \"max\": 480,\n        \"num_unique_values\": 126,\n        \"samples\": [\n          283,\n          368,\n          439\n        ],\n        \"semantic_type\": \"\",\n        \"description\": \"\"\n      }\n    },\n    {\n      \"column\": \"nama\",\n      \"properties\": {\n        \"dtype\": \"string\",\n        \"num_unique_values\": 126,\n        \"samples\": [\n          \"Kebun Buah Mangunan\",\n          \"Depok Beach\",\n          \"Kawasan Ekowisata Gunung Api Purba Nglanggeran\"\n        ],\n        \"semantic_type\": \"\",\n        \"description\": \"\"\n      }\n    },\n    {\n      \"column\": \"vote_average\",\n      \"properties\": {\n        \"dtype\": \"number\",\n        \"std\": 0.15733494753005678,\n        \"min\": 4.0,\n        \"max\": 5.0,\n        \"num_unique_values\": 10,\n        \"samples\": [\n          4.9,\n          4.4,\n          4.3\n        ],\n        \"semantic_type\": \"\",\n        \"description\": \"\"\n      }\n    },\n    {\n      \"column\": \"vote_count\",\n      \"properties\": {\n        \"dtype\": \"number\",\n        \"std\": 11580,\n        \"min\": 1,\n        \"max\": 81922,\n        \"num_unique_values\": 125,\n        \"samples\": [\n          11176,\n          4287,\n          5280\n        ],\n        \"semantic_type\": \"\",\n        \"description\": \"\"\n      }\n    },\n    {\n      \"column\": \"type\",\n      \"properties\": {\n        \"dtype\": \"category\",\n        \"num_unique_values\": 22,\n        \"samples\": [\n          \"Budaya dan Sejarah\",\n          \"Buatan, Budaya dan Sejarah\",\n          \"Museum\"\n        ],\n        \"semantic_type\": \"\",\n        \"description\": \"\"\n      }\n    },\n    {\n      \"column\": \"htm_weekday\",\n      \"properties\": {\n        \"dtype\": \"number\",\n        \"std\": 61848.04176238136,\n        \"min\": 0.0,\n        \"max\": 500000.0,\n        \"num_unique_values\": 23,\n        \"samples\": [\n          12000.0,\n          4000.0,\n          50000.0\n        ],\n        \"semantic_type\": \"\",\n        \"description\": \"\"\n      }\n    },\n    {\n      \"column\": \"htm_weekend\",\n      \"properties\": {\n        \"dtype\": \"number\",\n        \"std\": 62103.670238906634,\n        \"min\": 0.0,\n        \"max\": 500000.0,\n        \"num_unique_values\": 24,\n        \"samples\": [\n          30000.0,\n          2500.0,\n          50000.0\n        ],\n        \"semantic_type\": \"\",\n        \"description\": \"\"\n      }\n    },\n    {\n      \"column\": \"latitude\",\n      \"properties\": {\n        \"dtype\": \"number\",\n        \"std\": 0.16716983099438798,\n        \"min\": -8.1902176,\n        \"max\": -7.5768966,\n        \"num_unique_values\": 126,\n        \"samples\": [\n          -7.939896,\n          -8.0137087,\n          -7.841986\n        ],\n        \"semantic_type\": \"\",\n        \"description\": \"\"\n      }\n    },\n    {\n      \"column\": \"longitude\",\n      \"properties\": {\n        \"dtype\": \"number\",\n        \"std\": 0.14802589910445257,\n        \"min\": 110.0198257,\n        \"max\": 110.7103772,\n        \"num_unique_values\": 126,\n        \"samples\": [\n          110.424336,\n          110.2914777,\n          110.5415759\n        ],\n        \"semantic_type\": \"\",\n        \"description\": \"\"\n      }\n    },\n    {\n      \"column\": \"description\",\n      \"properties\": {\n        \"dtype\": \"string\",\n        \"num_unique_values\": 126,\n        \"samples\": [\n          \"Kebun Buah Mangunan adalah salah satu tempat wisata di kawasan Mangunan, Dlingo, Kabupaten Bantul, Yogyakarta. Kawasan wisata yang terkenal sebagai salah satu spot Negeri di Atas Awan ini terletak sekitar 25 kilometer (km) dari kota Yogyakarta. Dengan waktu tempuh kurang lebih satu jam perjalanan, Kebun Buah Mangunan bisa jadi alternatif tempat wisata bersama keluarga di akhir pekan.\",\n          \"Pantai Depok yang letaknya hanya 1,5 km dari Parangtritis ini memang terkenal di kalangan wisatawan lokal. Selain karena keindahan pantainya, wisata pantai Yogyakarta yang satu ini juga terkenal dengan aneka menu seafood yang rasanya mampu menggoyang lidah. Tidak heran, hampir seluruh warga yang tinggal di sekitar pantai ini berprofesi sebagai nelayan. Itulah kenapa hidangan laut yang diolah di tempat ini sangat istimewa. Sebab memang semua ikan dan seafood yang ada di sini memang masih segar ketika diolah.\",\n          \"Kawasan Ekosistem Gunung Purba Nglanggeran atau yang biasa disebut Gunung Nglanggeran ini merupakan kawasan yang litologinya disusun oleh material vulkanik tua, berbentuk gunung batu raksasa yang membentang sepanjang kurang lebih 800 meter dengan tinggi mencapai 300 meter. Gunung Nglanggeran dinyatakan sebagai gunung api purba dari hasil penelitian dan refrensi yang ada. Sekitar 60-70 juta tahun yang lalu Gunung tersebut merupakan gunung berapi aktif.\"\n        ],\n        \"semantic_type\": \"\",\n        \"description\": \"\"\n      }\n    },\n    {\n      \"column\": \"aff_link\",\n      \"properties\": {\n        \"dtype\": \"string\",\n        \"num_unique_values\": 126,\n        \"samples\": [\n          \"https://www.tiket.com/to-do/search?title=Kebun%20Buah%20Mangunan\",\n          \"https://www.tiket.com/to-do/search?title=Depok%20Beach\",\n          \"https://www.tiket.com/to-do/search?title=Kawasan%20Ekowisata%20Gunung%20Api%20Purba%20Nglanggeran\"\n        ],\n        \"semantic_type\": \"\",\n        \"description\": \"\"\n      }\n    },\n    {\n      \"column\": \"trans_desc\",\n      \"properties\": {\n        \"dtype\": \"string\",\n        \"num_unique_values\": 126,\n        \"samples\": [\n          \"Mangunan Fruit Garden is one of the tourist attractions in the Mangunan area, Dlingo, Bantul Regency, Yogyakarta.The tourist area which is famous as one of the country spots above the clouds is located about 25 kilometers (km) from the city of Yogyakarta.With a travel time of approximately one hour drive, Mangunan Fruit Garden can be an alternative tourist attraction with family on weekends.\",\n          \"Depok Beach which is located only 1.5 km from Parangtritis is indeed famous among local tourists.Apart from the beauty of the beach, this Yogyakarta beach tour is also famous for various seafood menus that taste able to shake the tongue.Not surprisingly, almost all residents who live around this beach work as fishermen.That is why seafood that is processed in this place is so special.Because indeed all the fish and seafood that is here is still fresh when processed.\",\n          \"The Nglanggeran Ancient Mountain Ecosystem area or commonly called Mount Nglanggeran is an area whose lithology is composed of old volcanic material, shaped like a giant stone mountain that stretches for approximately 800 meters with a height of 300 meters.Nglanggeran Mountain is declared an ancient volcano from the results of existing research and references.About 60-70 million years ago the mountain was an active volcano.\"\n        ],\n        \"semantic_type\": \"\",\n        \"description\": \"\"\n      }\n    },\n    {\n      \"column\": \"types\",\n      \"properties\": {\n        \"dtype\": \"category\",\n        \"num_unique_values\": 22,\n        \"samples\": [\n          \"Culture and history\",\n          \"Artificial, culture and history\",\n          \"Museum\"\n        ],\n        \"semantic_type\": \"\",\n        \"description\": \"\"\n      }\n    },\n    {\n      \"column\": \"combined\",\n      \"properties\": {\n        \"dtype\": \"string\",\n        \"num_unique_values\": 126,\n        \"samples\": [\n          \"Agro -tourism Mangunan Fruit Garden is one of the tourist attractions in the Mangunan area, Dlingo, Bantul Regency, Yogyakarta.The tourist area which is famous as one of the country spots above the clouds is located about 25 kilometers (km) from the city of Yogyakarta.With a travel time of approximately one hour drive, Mangunan Fruit Garden can be an alternative tourist attraction with family on weekends.\",\n          \"Beach Depok Beach which is located only 1.5 km from Parangtritis is indeed famous among local tourists.Apart from the beauty of the beach, this Yogyakarta beach tour is also famous for various seafood menus that taste able to shake the tongue.Not surprisingly, almost all residents who live around this beach work as fishermen.That is why seafood that is processed in this place is so special.Because indeed all the fish and seafood that is here is still fresh when processed.\",\n          \"Alam, Water Tourism The Nglanggeran Ancient Mountain Ecosystem area or commonly called Mount Nglanggeran is an area whose lithology is composed of old volcanic material, shaped like a giant stone mountain that stretches for approximately 800 meters with a height of 300 meters.Nglanggeran Mountain is declared an ancient volcano from the results of existing research and references.About 60-70 million years ago the mountain was an active volcano.\"\n        ],\n        \"semantic_type\": \"\",\n        \"description\": \"\"\n      }\n    }\n  ]\n}"
            }
          },
          "metadata": {},
          "execution_count": 22
        }
      ]
    },
    {
      "cell_type": "code",
      "source": [
        "print(df['nama'])"
      ],
      "metadata": {
        "colab": {
          "base_uri": "https://localhost:8080/"
        },
        "id": "7TdVlmMSf8Ju",
        "outputId": "a0893f65-787d-4990-b7e9-25d9b1dda42c"
      },
      "execution_count": null,
      "outputs": [
        {
          "output_type": "stream",
          "name": "stdout",
          "text": [
            "0                                    Candi Borobudur\n",
            "1                                    Candi Prambanan\n",
            "2                                      Tebing Breksi\n",
            "3                                   Gembira Loka Zoo\n",
            "4      The Palace of Yogyakarta (Keraton Yogyakarta)\n",
            "                           ...                      \n",
            "163                                   Bukit Pengilon\n",
            "324                         Ijo Temple Wooden Mosque\n",
            "341                  Museum Batik Keraton Yogyakarta\n",
            "382                                 Candi ASU Klaten\n",
            "475                     Wisata Air Wanatirta Kencana\n",
            "Name: nama, Length: 126, dtype: object\n"
          ]
        }
      ]
    },
    {
      "cell_type": "code",
      "source": [
        "image_mapping = pd.read_csv(\"/content/file_id - Sheet1.csv\")"
      ],
      "metadata": {
        "id": "Oef6eINkQciw"
      },
      "execution_count": null,
      "outputs": []
    },
    {
      "cell_type": "code",
      "source": [
        "merged = df.merge(image_mapping, on=\"nama\", how=\"left\")"
      ],
      "metadata": {
        "id": "ne6b7lFzQ2x9"
      },
      "execution_count": null,
      "outputs": []
    },
    {
      "cell_type": "code",
      "source": [
        "merged['image_link'] = merged['file_id'].apply(\n",
        "    lambda file_id: f\"https://drive.google.com/uc?id={file_id}\" if pd.notnull(file_id) else None\n",
        ")"
      ],
      "metadata": {
        "id": "H9odQa-GRBbA"
      },
      "execution_count": null,
      "outputs": []
    },
    {
      "cell_type": "code",
      "source": [
        "merged.info()"
      ],
      "metadata": {
        "colab": {
          "base_uri": "https://localhost:8080/"
        },
        "id": "ki3KsswpRIKJ",
        "outputId": "8bfe9ef5-b03a-4db4-fed8-3423441513c2"
      },
      "execution_count": null,
      "outputs": [
        {
          "output_type": "stream",
          "name": "stdout",
          "text": [
            "<class 'pandas.core.frame.DataFrame'>\n",
            "RangeIndex: 126 entries, 0 to 125\n",
            "Data columns (total 18 columns):\n",
            " #   Column        Non-Null Count  Dtype  \n",
            "---  ------        --------------  -----  \n",
            " 0   no            126 non-null    int64  \n",
            " 1   nama          126 non-null    object \n",
            " 2   vote_average  126 non-null    float64\n",
            " 3   vote_count    126 non-null    int64  \n",
            " 4   type          126 non-null    object \n",
            " 5   htm_weekday   126 non-null    float64\n",
            " 6   htm_weekend   126 non-null    float64\n",
            " 7   latitude      126 non-null    float64\n",
            " 8   longitude     126 non-null    float64\n",
            " 9   description   126 non-null    object \n",
            " 10  aff_link      126 non-null    object \n",
            " 11  trans_desc    126 non-null    object \n",
            " 12  types         126 non-null    object \n",
            " 13  combined      126 non-null    object \n",
            " 14  file_id       126 non-null    object \n",
            " 15  Unnamed: 2    0 non-null      float64\n",
            " 16  Unnamed: 3    95 non-null     object \n",
            " 17  image_link    126 non-null    object \n",
            "dtypes: float64(6), int64(2), object(10)\n",
            "memory usage: 17.8+ KB\n"
          ]
        }
      ]
    },
    {
      "cell_type": "code",
      "source": [
        "merged = merged.drop(columns=['Unnamed: 2', 'Unnamed: 3'])"
      ],
      "metadata": {
        "id": "9IP8FjKQRO6Z"
      },
      "execution_count": null,
      "outputs": []
    },
    {
      "cell_type": "code",
      "source": [
        "merged.info()"
      ],
      "metadata": {
        "colab": {
          "base_uri": "https://localhost:8080/"
        },
        "id": "aNFE2PBoRcly",
        "outputId": "f96c1853-c791-4f87-e898-24769bc6748a"
      },
      "execution_count": null,
      "outputs": [
        {
          "output_type": "stream",
          "name": "stdout",
          "text": [
            "<class 'pandas.core.frame.DataFrame'>\n",
            "RangeIndex: 126 entries, 0 to 125\n",
            "Data columns (total 16 columns):\n",
            " #   Column        Non-Null Count  Dtype  \n",
            "---  ------        --------------  -----  \n",
            " 0   no            126 non-null    int64  \n",
            " 1   nama          126 non-null    object \n",
            " 2   vote_average  126 non-null    float64\n",
            " 3   vote_count    126 non-null    int64  \n",
            " 4   type          126 non-null    object \n",
            " 5   htm_weekday   126 non-null    float64\n",
            " 6   htm_weekend   126 non-null    float64\n",
            " 7   latitude      126 non-null    float64\n",
            " 8   longitude     126 non-null    float64\n",
            " 9   description   126 non-null    object \n",
            " 10  aff_link      126 non-null    object \n",
            " 11  trans_desc    126 non-null    object \n",
            " 12  types         126 non-null    object \n",
            " 13  combined      126 non-null    object \n",
            " 14  file_id       126 non-null    object \n",
            " 15  image_link    126 non-null    object \n",
            "dtypes: float64(5), int64(2), object(9)\n",
            "memory usage: 15.9+ KB\n"
          ]
        }
      ]
    },
    {
      "cell_type": "code",
      "source": [
        "print(merged['image_link'].iloc[5])"
      ],
      "metadata": {
        "colab": {
          "base_uri": "https://localhost:8080/"
        },
        "id": "Tiutk9ZpRfJH",
        "outputId": "c790f3e1-a15b-46f8-b7ed-cd3b22ec5bed"
      },
      "execution_count": null,
      "outputs": [
        {
          "output_type": "stream",
          "name": "stdout",
          "text": [
            "https://drive.google.com/uc?id=1pmSb1gyxM3xAT50FslzgWSOvmmzaKIU2\n"
          ]
        }
      ]
    },
    {
      "cell_type": "code",
      "source": [
        "merged.to_csv('data_kaggle(1).csv', index=False)"
      ],
      "metadata": {
        "id": "tYFexsjBqSNP"
      },
      "execution_count": null,
      "outputs": []
    }
  ]
}